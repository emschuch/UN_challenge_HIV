{
 "cells": [
  {
   "cell_type": "code",
   "execution_count": 3,
   "metadata": {
    "collapsed": true
   },
   "outputs": [],
   "source": [
    "import pickle\n",
    "import pandas as pd\n",
    "import numpy as np\n",
    "\n",
    "from patsy import dmatrices\n",
    "import statsmodels.api as sm"
   ]
  },
  {
   "cell_type": "code",
   "execution_count": 4,
   "metadata": {
    "collapsed": true
   },
   "outputs": [],
   "source": [
    "with open('un_explore.pkl') as picklefile:\n",
    "    undata = pickle.load(picklefile)"
   ]
  },
  {
   "cell_type": "code",
   "execution_count": 5,
   "metadata": {
    "collapsed": false
   },
   "outputs": [
    {
     "name": "stdout",
     "output_type": "stream",
     "text": [
      "adolescent_birth_rate_per_1000_women\n",
      "agriculture_support_estimate_for_oecd_countries_as_percentage_of_their_gdp\n",
      "agriculture_support_estimate_for_oecd_countries_million_us\n",
      "aids_deaths\n",
      "aids_deaths_lower_bound\n",
      "aids_deaths_upper_bound\n",
      "aids_orphans_one_or_both_parents\n",
      "antenatal_care_coverage_at_least_four_visits_percentage\n",
      "antenatal_care_coverage_at_least_one_visit_percentage\n",
      "antiretroviral_therapy_coverage_among_people_with_advanced_hiv_infection_percentage\n",
      "antiretroviral_therapy_coverage_among_people_with_advanced_hiv_infection_percentage_lower_bound\n",
      "antiretroviral_therapy_coverage_among_people_with_advanced_hiv_infection_percentage_upper_bound\n",
      "condom_use_at_last_highrisk_sex_1524_years_old_men_percentage\n",
      "condom_use_at_last_highrisk_sex_1524_years_old_women_percentage\n",
      "condom_use_to_overall_contraceptive_use_among_currently_married_women_1549_years_old_percentage\n",
      "countryname\n",
      "current_contraceptive_use_among_married_women_1549_years_old_any_method_percentage\n",
      "current_contraceptive_use_among_married_women_1549_years_old_condom_percentage\n",
      "current_contraceptive_use_among_married_women_1549_years_old_modern_methods_percentage\n",
      "debt_relief_committed_under_hipc_initiative_cumulative_million_us_in_end2009_npv_terms\n",
      "debt_relief_delivered_in_full_under_mdri_initiative_cumulative_million_us_in_end2009_npv_terms\n",
      "debt_service_as_percentage_of_exports_of_goods_and_services_and_net_income\n",
      "developed_country_imports_from_developing_countries_admitted_duty_free_percentage\n",
      "developed_country_imports_from_the_ldcs_admitted_duty_free_percentage\n",
      "gdppc2012\n",
      "hiv_incidence_rate_1549_years_old_percentage_lower_bound\n",
      "hiv_incidence_rate_1549_years_old_percentage_midpoint\n",
      "hiv_incidence_rate_1549_years_old_percentage_upper_bound\n",
      "hiv_prevalence_rate_men_1549_years_old_in_national_based_surveys\n",
      "hiv_prevalence_rate_women_1549_years_old_in_national_based_surveys\n",
      "isdeveloped\n",
      "isldc2014\n",
      "islldc\n",
      "ismdgcountry\n",
      "iso3code\n",
      "mdgregions\n",
      "men_1524_years_old_with_comprehensive_correct_knowledge_of_hivaids_percentage\n",
      "net_oda_as_percentage_of_oecddac_donors_gni\n",
      "net_oda_million_us\n",
      "net_oda_to_ldcs_as_percentage_of_oecddac_donors_gni\n",
      "net_oda_to_ldcs_million_us\n",
      "oda_provided_to_help_build_trade_capacity_percentage\n",
      "oda_received_in_landlocked_developing_countries_as_percentage_of_their_gni\n",
      "oda_received_in_landlocked_developing_countries_million_us\n",
      "oda_received_in_small_islands_developing_states_as_percentage_of_their_gni\n",
      "oda_received_in_small_islands_developing_states_million_us\n",
      "oda_that_is_untied_million_us\n",
      "oda_that_is_untied_percentage\n",
      "oda_to_basic_social_services_as_percentage_of_sectorallocable_oda\n",
      "oda_to_basic_social_services_million_us\n",
      "people_living_with_hiv_1549_years_old_percentage\n",
      "people_living_with_hiv_1549_years_old_percentage_lower_bound\n",
      "people_living_with_hiv_1549_years_old_percentage_upper_bound\n",
      "percentage_of_hivinfected_pregnant_women_who_received_antiretroviral_drugs_to_reduce_the_risk_for_mothertochild_transmission_lower_bound\n",
      "percentage_of_hivinfected_pregnant_women_who_received_antiretroviral_drugs_to_reduce_the_risk_for_mothertochild_transmission_mid_point\n",
      "percentage_of_hivinfected_pregnant_women_who_received_antiretroviral_drugs_to_reduce_the_risk_for_mothertochild_transmission_upper_bound\n",
      "poorest_quintilequots_share_in_national_income_or_consumption_percentage\n",
      "population2012\n",
      "population_below_125_ppp_per_day_percentage\n",
      "population_below_national_poverty_line_rural_percentage\n",
      "population_below_national_poverty_line_total_percentage\n",
      "population_below_national_poverty_line_urban_percentage\n",
      "poverty_gap_ratio_at_125_a_day_ppp_percentage\n",
      "purchasing_power_parities_ppp_conversion_factor_local_currency_unit_to_international_dollar\n",
      "ratio_of_school_attendance_rate_of_orphans_to_school_attendance_rate_of_non_orphans\n",
      "school_attendance_rate_of_children_aged_1014_both_of_whose_parents_are_alive_and_who_live_with_at_least_one_parent\n",
      "school_attendance_rate_of_orphans_aged_1014\n",
      "unmet_need_for_family_planning_limiting_percentage\n",
      "unmet_need_for_family_planning_spacing_percentage\n",
      "unmet_need_for_family_planning_total_percentage\n",
      "women_1524_years_old_with_comprehensive_correct_knowledge_of_hivaids_percentage\n",
      "year\n"
     ]
    }
   ],
   "source": [
    "for col in sorted(undata.columns):\n",
    "    print col"
   ]
  },
  {
   "cell_type": "code",
   "execution_count": 6,
   "metadata": {
    "collapsed": true
   },
   "outputs": [],
   "source": [
    "def model_me_data(dep, ind, data):\n",
    "    formula = dep + '~' + '+'.join(ind)\n",
    "    y, X = dmatrices(formula, data=data, return_type='dataframe' )\n",
    "    print X.shape\n",
    "    print '\\n****PREDICTING\\n' + dep\n",
    "    model = sm.OLS(y, X)\n",
    "    results = model.fit()\n",
    "    print results.summary()"
   ]
  },
  {
   "cell_type": "code",
   "execution_count": 14,
   "metadata": {
    "collapsed": true
   },
   "outputs": [],
   "source": [
    "dependent = 'hiv_incidence_rate_1549_years_old_percentage_midpoint'\n",
    "\n",
    "independent = [\n",
    "#                 'year', \n",
    "               'ismdgcountry',\n",
    "#                'gdppc2012',\n",
    "               'islldc',\n",
    "               'isldc2014',\n",
    "               'mdgregions',\n",
    "# 'oda_received_in_landlocked_developing_countries_million_us',\n",
    "'oda_received_in_landlocked_developing_countries_as_percentage_of_their_gni',\n",
    "# 'population_below_national_poverty_line_total_percentage',\n",
    "# 'oda_received_in_small_islands_developing_states_million_us',\n",
    "# 'purchasing_power_parities_ppp_conversion_factor_local_currency_unit_to_international_dollar',\n",
    "# 'women_1524_years_old_with_comprehensive_correct_knowledge_of_hivaids_percentage',\n",
    "# 'men_1524_years_old_with_comprehensive_correct_knowledge_of_hivaids_percentage',\n",
    "# 'population_below_national_poverty_line_total_percentage',\n",
    "# 'adolescent_birth_rate_per_1000_women',\n",
    "# 'condom_use_to_overall_contraceptive_use_among_currently_married_women_1549_years_old_percentage',\n",
    "# 'antenatal_care_coverage_at_least_one_visit_percentage',\n",
    "# 'antenatal_care_coverage_at_least_four_visits_percentage'\n",
    "              ]"
   ]
  },
  {
   "cell_type": "code",
   "execution_count": 15,
   "metadata": {
    "collapsed": false
   },
   "outputs": [
    {
     "name": "stdout",
     "output_type": "stream",
     "text": [
      "(521, 15)\n",
      "\n",
      "****PREDICTING\n",
      "hiv_incidence_rate_1549_years_old_percentage_midpoint\n",
      "                                              OLS Regression Results                                             \n",
      "=================================================================================================================\n",
      "Dep. Variable:     hiv_incidence_rate_1549_years_old_percentage_midpoint   R-squared:                       0.555\n",
      "Model:                                                               OLS   Adj. R-squared:                  0.547\n",
      "Method:                                                    Least Squares   F-statistic:                     70.68\n",
      "Date:                                                   Tue, 08 Sep 2015   Prob (F-statistic):           5.62e-84\n",
      "Time:                                                           11:57:35   Log-Likelihood:                -667.42\n",
      "No. Observations:                                                    521   AIC:                             1355.\n",
      "Df Residuals:                                                        511   BIC:                             1397.\n",
      "Df Model:                                                              9                                         \n",
      "Covariance Type:                                               nonrobust                                         \n",
      "==============================================================================================================================================\n",
      "                                                                                 coef    std err          t      P>|t|      [95.0% Conf. Int.]\n",
      "----------------------------------------------------------------------------------------------------------------------------------------------\n",
      "Intercept                                                                      0.5391      0.089      6.071      0.000         0.365     0.714\n",
      "mdgregions[T.Caucasus and Central Asia]                                       -1.0212      0.196     -5.201      0.000        -1.407    -0.635\n",
      "mdgregions[T.Developed]                                                       -0.9936      0.252     -3.949      0.000        -1.488    -0.499\n",
      "mdgregions[T.Eastern Asia]                                                    -1.0484      0.774     -1.355      0.176        -2.569     0.472\n",
      "mdgregions[T.Latin America]                                                   -0.9961      0.234     -4.251      0.000        -1.456    -0.536\n",
      "mdgregions[T.Northern Africa]                                              -5.354e-16   3.89e-16     -1.378      0.169      -1.3e-15  2.28e-16\n",
      "mdgregions[T.Oceania]                                                       -4.11e-16   3.43e-16     -1.199      0.231     -1.08e-15  2.62e-16\n",
      "mdgregions[T.South-eastern Asia]                                               1.2732      0.778      1.637      0.102        -0.255     2.802\n",
      "mdgregions[T.Southern Asia]                                                    1.2816      0.240      5.334      0.000         0.810     1.754\n",
      "mdgregions[T.Sub-Saharan Africa]                                               2.0437      0.183     11.143      0.000         1.683     2.404\n",
      "mdgregions[T.Western Asia]                                                          0          0        nan        nan             0         0\n",
      "ismdgcountry                                                                   0.5391      0.089      6.071      0.000         0.365     0.714\n",
      "islldc                                                                         0.8625      0.185      4.670      0.000         0.500     1.225\n",
      "isldc2014                                                                     -2.3213      0.133    -17.487      0.000        -2.582    -2.060\n",
      "oda_received_in_landlocked_developing_countries_as_percentage_of_their_gni    -0.0057      0.005     -1.090      0.276        -0.016     0.005\n",
      "==============================================================================\n",
      "Omnibus:                      149.203   Durbin-Watson:                   0.094\n",
      "Prob(Omnibus):                  0.000   Jarque-Bera (JB):              441.872\n",
      "Skew:                           1.364   Prob(JB):                     1.12e-96\n",
      "Kurtosis:                       6.594   Cond. No.                     2.46e+30\n",
      "==============================================================================\n",
      "\n",
      "Warnings:\n",
      "[1] Standard Errors assume that the covariance matrix of the errors is correctly specified.\n",
      "[2] The smallest eigenvalue is 1.86e-56. This might indicate that there are\n",
      "strong multicollinearity problems or that the design matrix is singular.\n"
     ]
    }
   ],
   "source": [
    "model_me_data(dependent, independent, undata)"
   ]
  },
  {
   "cell_type": "code",
   "execution_count": 16,
   "metadata": {
    "collapsed": true
   },
   "outputs": [],
   "source": [
    "ss_africa = []\n",
    "\n",
    "for region in undata['mdgregions']:\n",
    "    if region == 'Sub-Saharan Africa':\n",
    "        ss_africa.append(1)\n",
    "    else:\n",
    "        ss_africa.append(0)\n",
    "        \n",
    "undata['isssafrica'] = ss_africa"
   ]
  },
  {
   "cell_type": "code",
   "execution_count": 17,
   "metadata": {
    "collapsed": true
   },
   "outputs": [],
   "source": [
    "dependent = 'hiv_incidence_rate_1549_years_old_percentage_midpoint'\n",
    "\n",
    "independent = [\n",
    "#     'year', \n",
    "               'ismdgcountry',\n",
    "#                'gdppc2012',\n",
    "               'islldc',\n",
    "               'isldc2014',\n",
    "#                'mdgregions',\n",
    "               'isssafrica',\n",
    "# 'oda_received_in_landlocked_developing_countries_million_us',\n",
    "'oda_received_in_landlocked_developing_countries_as_percentage_of_their_gni',\n",
    "# 'population_below_national_poverty_line_total_percentage',\n",
    "# 'oda_received_in_small_islands_developing_states_million_us',\n",
    "# 'purchasing_power_parities_ppp_conversion_factor_local_currency_unit_to_international_dollar',\n",
    "# 'women_1524_years_old_with_comprehensive_correct_knowledge_of_hivaids_percentage',\n",
    "# 'men_1524_years_old_with_comprehensive_correct_knowledge_of_hivaids_percentage',\n",
    "# 'population_below_national_poverty_line_total_percentage',\n",
    "# 'adolescent_birth_rate_per_1000_women',\n",
    "# 'condom_use_to_overall_contraceptive_use_among_currently_married_women_1549_years_old_percentage',\n",
    "# 'antenatal_care_coverage_at_least_one_visit_percentage',\n",
    "# 'antenatal_care_coverage_at_least_four_visits_percentage'\n",
    "              ]"
   ]
  },
  {
   "cell_type": "code",
   "execution_count": 18,
   "metadata": {
    "collapsed": false
   },
   "outputs": [
    {
     "name": "stdout",
     "output_type": "stream",
     "text": [
      "(521, 6)\n",
      "\n",
      "****PREDICTING\n",
      "hiv_incidence_rate_1549_years_old_percentage_midpoint\n",
      "                                              OLS Regression Results                                             \n",
      "=================================================================================================================\n",
      "Dep. Variable:     hiv_incidence_rate_1549_years_old_percentage_midpoint   R-squared:                       0.465\n",
      "Model:                                                               OLS   Adj. R-squared:                  0.461\n",
      "Method:                                                    Least Squares   F-statistic:                     112.3\n",
      "Date:                                                   Tue, 08 Sep 2015   Prob (F-statistic):           8.29e-69\n",
      "Time:                                                           11:58:04   Log-Likelihood:                -714.95\n",
      "No. Observations:                                                    521   AIC:                             1440.\n",
      "Df Residuals:                                                        516   BIC:                             1461.\n",
      "Df Model:                                                              4                                         \n",
      "Covariance Type:                                               nonrobust                                         \n",
      "==============================================================================================================================================\n",
      "                                                                                 coef    std err          t      P>|t|      [95.0% Conf. Int.]\n",
      "----------------------------------------------------------------------------------------------------------------------------------------------\n",
      "Intercept                                                                      0.2109      0.042      5.022      0.000         0.128     0.293\n",
      "ismdgcountry                                                                   0.2109      0.042      5.022      0.000         0.128     0.293\n",
      "islldc                                                                         0.8472      0.201      4.208      0.000         0.452     1.243\n",
      "isldc2014                                                                     -1.5514      0.119    -13.090      0.000        -1.784    -1.319\n",
      "isssafrica                                                                     2.2700      0.114     19.990      0.000         2.047     2.493\n",
      "oda_received_in_landlocked_developing_countries_as_percentage_of_their_gni    -0.0195      0.006     -3.540      0.000        -0.030    -0.009\n",
      "==============================================================================\n",
      "Omnibus:                      136.292   Durbin-Watson:                   0.119\n",
      "Prob(Omnibus):                  0.000   Jarque-Bera (JB):              268.046\n",
      "Skew:                           1.464   Prob(JB):                     6.23e-59\n",
      "Kurtosis:                       4.944   Cond. No.                     1.15e+16\n",
      "==============================================================================\n",
      "\n",
      "Warnings:\n",
      "[1] Standard Errors assume that the covariance matrix of the errors is correctly specified.\n",
      "[2] The smallest eigenvalue is 8.51e-28. This might indicate that there are\n",
      "strong multicollinearity problems or that the design matrix is singular.\n"
     ]
    }
   ],
   "source": [
    "model_me_data(dependent, independent, undata)"
   ]
  },
  {
   "cell_type": "code",
   "execution_count": null,
   "metadata": {
    "collapsed": true
   },
   "outputs": [],
   "source": [
    "# years = [year for year in set(undata['year'])]\n",
    "\n",
    "# for year in years:\n",
    "#     yeardata = undata[undata['year'] == year]\n",
    "#     print '\\n*****' + str(year)\n",
    "#     for col in yeardata.columns:\n",
    "#         if yeardata[col].count() > 80:\n",
    "#             print yeardata[col].count(), col"
   ]
  }
 ],
 "metadata": {
  "kernelspec": {
   "display_name": "Python 2",
   "language": "python",
   "name": "python2"
  },
  "language_info": {
   "codemirror_mode": {
    "name": "ipython",
    "version": 2
   },
   "file_extension": ".py",
   "mimetype": "text/x-python",
   "name": "python",
   "nbconvert_exporter": "python",
   "pygments_lexer": "ipython2",
   "version": "2.7.10"
  }
 },
 "nbformat": 4,
 "nbformat_minor": 0
}
