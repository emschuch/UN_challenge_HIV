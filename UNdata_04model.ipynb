{
 "cells": [
  {
   "cell_type": "code",
   "execution_count": 1,
   "metadata": {
    "collapsed": true
   },
   "outputs": [],
   "source": [
    "import pickle\n",
    "import pandas as pd\n",
    "import numpy as np\n",
    "import copy\n",
    "\n",
    "from patsy import dmatrices\n",
    "import statsmodels.api as sm"
   ]
  },
  {
   "cell_type": "code",
   "execution_count": 2,
   "metadata": {
    "collapsed": true
   },
   "outputs": [],
   "source": [
    "with open('un_explore2.pkl') as picklefile:\n",
    "    undata = pickle.load(picklefile)"
   ]
  },
  {
   "cell_type": "code",
   "execution_count": 3,
   "metadata": {
    "collapsed": false
   },
   "outputs": [
    {
     "name": "stdout",
     "output_type": "stream",
     "text": [
      "adolescent_birth_rate_per_1000_women\n",
      "agriculture_support_estimate_for_oecd_countries_as_percentage_of_their_gdp\n",
      "agriculture_support_estimate_for_oecd_countries_million_us\n",
      "aids_deaths\n",
      "aids_deaths_lower_bound\n",
      "aids_deaths_upper_bound\n",
      "aids_orphans_one_or_both_parents\n",
      "antenatal_care_coverage_at_least_four_visits_percentage\n",
      "antenatal_care_coverage_at_least_one_visit_percentage\n",
      "antiretroviral_therapy_coverage_among_people_with_advanced_hiv_infection_percentage\n",
      "antiretroviral_therapy_coverage_among_people_with_advanced_hiv_infection_percentage_lower_bound\n",
      "antiretroviral_therapy_coverage_among_people_with_advanced_hiv_infection_percentage_upper_bound\n",
      "children_under_5_sleeping_under_insecticidetreated_bed_nets_percentage\n",
      "children_under_5_with_fever_being_treated_with_antimalarial_drugs_percentage\n",
      "condom_use_at_last_highrisk_sex_1524_years_old_men_percentage\n",
      "condom_use_at_last_highrisk_sex_1524_years_old_women_percentage\n",
      "condom_use_to_overall_contraceptive_use_among_currently_married_women_1549_years_old_percentage\n",
      "countryname\n",
      "current_contraceptive_use_among_married_women_1549_years_old_any_method_percentage\n",
      "current_contraceptive_use_among_married_women_1549_years_old_condom_percentage\n",
      "current_contraceptive_use_among_married_women_1549_years_old_modern_methods_percentage\n",
      "debt_relief_committed_under_hipc_initiative_cumulative_million_us_in_end2009_npv_terms\n",
      "debt_relief_delivered_in_full_under_mdri_initiative_cumulative_million_us_in_end2009_npv_terms\n",
      "debt_service_as_percentage_of_exports_of_goods_and_services_and_net_income\n",
      "developed_country_imports_from_developing_countries_admitted_duty_free_percentage\n",
      "developed_country_imports_from_the_ldcs_admitted_duty_free_percentage\n",
      "gdppc2012\n",
      "hiv_incidence_rate_1549_years_old_percentage_lower_bound\n",
      "hiv_incidence_rate_1549_years_old_percentage_midpoint\n",
      "hiv_incidence_rate_1549_years_old_percentage_upper_bound\n",
      "hiv_prevalence_rate_men_1549_years_old_in_national_based_surveys\n",
      "hiv_prevalence_rate_women_1549_years_old_in_national_based_surveys\n",
      "isdeveloped\n",
      "isldc2014\n",
      "islldc\n",
      "ismdgcountry\n",
      "iso3code\n",
      "malaria_death_rate_per_100000_population_ages_04\n",
      "malaria_death_rate_per_100000_population_all_ages\n",
      "mdgregions\n",
      "men_1524_years_old_with_comprehensive_correct_knowledge_of_hivaids_percentage\n",
      "net_oda_as_percentage_of_oecddac_donors_gni\n",
      "net_oda_million_us\n",
      "net_oda_to_ldcs_as_percentage_of_oecddac_donors_gni\n",
      "net_oda_to_ldcs_million_us\n",
      "notified_cases_of_malaria_per_100000_population\n",
      "oda_provided_to_help_build_trade_capacity_percentage\n",
      "oda_received_in_landlocked_developing_countries_as_percentage_of_their_gni\n",
      "oda_received_in_landlocked_developing_countries_million_us\n",
      "oda_received_in_small_islands_developing_states_as_percentage_of_their_gni\n",
      "oda_received_in_small_islands_developing_states_million_us\n",
      "oda_that_is_untied_million_us\n",
      "oda_that_is_untied_percentage\n",
      "oda_to_basic_social_services_as_percentage_of_sectorallocable_oda\n",
      "oda_to_basic_social_services_million_us\n",
      "people_living_with_hiv_1549_years_old_percentage\n",
      "people_living_with_hiv_1549_years_old_percentage_lower_bound\n",
      "people_living_with_hiv_1549_years_old_percentage_upper_bound\n",
      "percentage_of_hivinfected_pregnant_women_who_received_antiretroviral_drugs_to_reduce_the_risk_for_mothertochild_transmission_lower_bound\n",
      "percentage_of_hivinfected_pregnant_women_who_received_antiretroviral_drugs_to_reduce_the_risk_for_mothertochild_transmission_mid_point\n",
      "percentage_of_hivinfected_pregnant_women_who_received_antiretroviral_drugs_to_reduce_the_risk_for_mothertochild_transmission_upper_bound\n",
      "poorest_quintilequots_share_in_national_income_or_consumption_percentage\n",
      "population2012\n",
      "population_below_125_ppp_per_day_percentage\n",
      "population_below_national_poverty_line_rural_percentage\n",
      "population_below_national_poverty_line_total_percentage\n",
      "population_below_national_poverty_line_urban_percentage\n",
      "poverty_gap_ratio_at_125_a_day_ppp_percentage\n",
      "purchasing_power_parities_ppp_conversion_factor_local_currency_unit_to_international_dollar\n",
      "ratio_of_school_attendance_rate_of_orphans_to_school_attendance_rate_of_non_orphans\n",
      "school_attendance_rate_of_children_aged_1014_both_of_whose_parents_are_alive_and_who_live_with_at_least_one_parent\n",
      "school_attendance_rate_of_orphans_aged_1014\n",
      "tuberculosis_death_rate_per_year_per_100000_population_lower_bound\n",
      "tuberculosis_death_rate_per_year_per_100000_population_midpoint\n",
      "tuberculosis_death_rate_per_year_per_100000_population_upper_bound\n",
      "tuberculosis_detection_rate_under_dots_percentage_lower_bound\n",
      "tuberculosis_detection_rate_under_dots_percentage_midpoint\n",
      "tuberculosis_detection_rate_under_dots_percentage_upper_bound\n",
      "tuberculosis_incidence_rate_per_year_per_100000_population_lower_bound\n",
      "tuberculosis_incidence_rate_per_year_per_100000_population_midpoint\n",
      "tuberculosis_incidence_rate_per_year_per_100000_population_upper_bound\n",
      "tuberculosis_prevalence_rate_per_100000_population_lower_bound\n",
      "tuberculosis_prevalence_rate_per_100000_population_midpoint\n",
      "tuberculosis_prevalence_rate_per_100000_population_upper_bound\n",
      "tuberculosis_treatment_success_rate_under_dots_percentage\n",
      "unmet_need_for_family_planning_limiting_percentage\n",
      "unmet_need_for_family_planning_spacing_percentage\n",
      "unmet_need_for_family_planning_total_percentage\n",
      "women_1524_years_old_with_comprehensive_correct_knowledge_of_hivaids_percentage\n",
      "year\n"
     ]
    }
   ],
   "source": [
    "for col in sorted(undata.columns):\n",
    "    print col"
   ]
  },
  {
   "cell_type": "code",
   "execution_count": 6,
   "metadata": {
    "collapsed": false
   },
   "outputs": [],
   "source": [
    "col = 'oda_received_in_landlocked_developing_countries_as_percentage_of_their_gni'\n",
    "undata['oda_impute'] = undata[col].replace(np.NaN, 0)"
   ]
  },
  {
   "cell_type": "code",
   "execution_count": 15,
   "metadata": {
    "collapsed": false
   },
   "outputs": [],
   "source": [
    "received_oda = []\n",
    "for oda in undata['oda_impute']:\n",
    "    if oda > 0:\n",
    "        received_oda.append(1)\n",
    "    else:\n",
    "        received_oda.append(0)\n",
    "        \n",
    "undata['received_oda'] = received_oda"
   ]
  },
  {
   "cell_type": "code",
   "execution_count": null,
   "metadata": {
    "collapsed": true
   },
   "outputs": [],
   "source": []
  },
  {
   "cell_type": "code",
   "execution_count": null,
   "metadata": {
    "collapsed": true
   },
   "outputs": [],
   "source": []
  },
  {
   "cell_type": "code",
   "execution_count": null,
   "metadata": {
    "collapsed": true
   },
   "outputs": [],
   "source": []
  },
  {
   "cell_type": "code",
   "execution_count": 7,
   "metadata": {
    "collapsed": true
   },
   "outputs": [],
   "source": [
    "def model_me_data(dep, ind, data):\n",
    "    formula = dep + '~' + '+'.join(ind)\n",
    "    y, X = dmatrices(formula, data=data, return_type='dataframe' )\n",
    "    print X.shape\n",
    "    print '\\n****PREDICTING\\n' + dep\n",
    "    model = sm.OLS(y, X)\n",
    "    results = model.fit()\n",
    "    print results.summary()"
   ]
  },
  {
   "cell_type": "code",
   "execution_count": 29,
   "metadata": {
    "collapsed": true
   },
   "outputs": [],
   "source": [
    "dependent = 'hiv_incidence_rate_1549_years_old_percentage_midpoint'\n",
    "\n",
    "independent = [\n",
    "                'year', \n",
    "                'ismdgcountry',\n",
    "#                 'gdppc2012',\n",
    "                'islldc',\n",
    "                'isldc2014',\n",
    "                'mdgregions',\n",
    "#                 'oda_impute',\n",
    "#                 'received_oda',\n",
    "'oda_received_in_landlocked_developing_countries_million_us',\n",
    "# 'oda_received_in_landlocked_developing_countries_as_percentage_of_their_gni',\n",
    "# 'population_below_national_poverty_line_total_percentage',\n",
    "# 'oda_received_in_small_islands_developing_states_million_us',\n",
    "# 'purchasing_power_parities_ppp_conversion_factor_local_currency_unit_to_international_dollar',\n",
    "# 'women_1524_years_old_with_comprehensive_correct_knowledge_of_hivaids_percentage',\n",
    "# 'men_1524_years_old_with_comprehensive_correct_knowledge_of_hivaids_percentage',\n",
    "# 'population_below_national_poverty_line_total_percentage',\n",
    "# 'adolescent_birth_rate_per_1000_women',\n",
    "# 'condom_use_to_overall_contraceptive_use_among_currently_married_women_1549_years_old_percentage',\n",
    "# 'antenatal_care_coverage_at_least_one_visit_percentage',\n",
    "# 'antenatal_care_coverage_at_least_four_visits_percentage'\n",
    "              ]"
   ]
  },
  {
   "cell_type": "code",
   "execution_count": 30,
   "metadata": {
    "collapsed": false
   },
   "outputs": [
    {
     "name": "stdout",
     "output_type": "stream",
     "text": [
      "(523, 16)\n",
      "\n",
      "****PREDICTING\n",
      "hiv_incidence_rate_1549_years_old_percentage_midpoint\n",
      "                                              OLS Regression Results                                             \n",
      "=================================================================================================================\n",
      "Dep. Variable:     hiv_incidence_rate_1549_years_old_percentage_midpoint   R-squared:                       0.601\n",
      "Model:                                                               OLS   Adj. R-squared:                  0.593\n",
      "Method:                                                    Least Squares   F-statistic:                     77.02\n",
      "Date:                                                   Sat, 12 Sep 2015   Prob (F-statistic):           2.10e-95\n",
      "Time:                                                           21:06:03   Log-Likelihood:                -640.83\n",
      "No. Observations:                                                    523   AIC:                             1304.\n",
      "Df Residuals:                                                        512   BIC:                             1351.\n",
      "Df Model:                                                             10                                         \n",
      "Covariance Type:                                               nonrobust                                         \n",
      "==============================================================================================================================\n",
      "                                                                 coef    std err          t      P>|t|      [95.0% Conf. Int.]\n",
      "------------------------------------------------------------------------------------------------------------------------------\n",
      "Intercept                                                     29.4651      5.323      5.536      0.000        19.008    39.922\n",
      "mdgregions[T.Caucasus and Central Asia]                        2.9625      0.766      3.868      0.000         1.458     4.467\n",
      "mdgregions[T.Developed]                                        3.0961      0.797      3.884      0.000         1.530     4.662\n",
      "mdgregions[T.Eastern Asia]                                     3.3349      1.084      3.078      0.002         1.206     5.464\n",
      "mdgregions[T.Latin America]                                    3.0827      0.762      4.043      0.000         1.585     4.581\n",
      "mdgregions[T.Northern Africa]                                 2.2e-14    3.9e-15      5.643      0.000      1.43e-14  2.97e-14\n",
      "mdgregions[T.Oceania]                                      -1.568e-14   2.61e-15     -5.997      0.000     -2.08e-14 -1.05e-14\n",
      "mdgregions[T.South-eastern Asia]                               5.6244      1.093      5.145      0.000         3.477     7.772\n",
      "mdgregions[T.Southern Asia]                                    5.3450      0.775      6.894      0.000         3.822     6.868\n",
      "mdgregions[T.Sub-Saharan Africa]                               6.0195      0.759      7.931      0.000         4.528     7.511\n",
      "mdgregions[T.Western Asia]                                  5.285e-17   2.97e-17      1.777      0.076     -5.59e-18  1.11e-16\n",
      "year                                                          -0.0309      0.006     -5.426      0.000        -0.042    -0.020\n",
      "ismdgcountry                                                  29.4651      5.323      5.536      0.000        19.008    39.922\n",
      "islldc                                                         0.9797      0.178      5.506      0.000         0.630     1.329\n",
      "isldc2014                                                     -2.2906      0.115    -19.951      0.000        -2.516    -2.065\n",
      "oda_received_in_landlocked_developing_countries_million_us    -0.0003   7.84e-05     -3.230      0.001        -0.000 -9.91e-05\n",
      "==============================================================================\n",
      "Omnibus:                      142.781   Durbin-Watson:                   0.123\n",
      "Prob(Omnibus):                  0.000   Jarque-Bera (JB):              403.440\n",
      "Skew:                           1.318   Prob(JB):                     2.48e-88\n",
      "Kurtosis:                       6.401   Cond. No.                     9.72e+21\n",
      "==============================================================================\n",
      "\n",
      "Warnings:\n",
      "[1] Standard Errors assume that the covariance matrix of the errors is correctly specified.\n",
      "[2] The smallest eigenvalue is 2.36e-35. This might indicate that there are\n",
      "strong multicollinearity problems or that the design matrix is singular.\n"
     ]
    }
   ],
   "source": [
    "model_me_data(dependent, independent, undata)"
   ]
  },
  {
   "cell_type": "code",
   "execution_count": 18,
   "metadata": {
    "collapsed": true
   },
   "outputs": [],
   "source": [
    "ss_africa = []\n",
    "\n",
    "for region in undata['mdgregions']:\n",
    "    if region == 'Sub-Saharan Africa':\n",
    "        ss_africa.append(1)\n",
    "    else:\n",
    "        ss_africa.append(0)\n",
    "        \n",
    "undata['isssafrica'] = ss_africa"
   ]
  },
  {
   "cell_type": "code",
   "execution_count": 31,
   "metadata": {
    "collapsed": true
   },
   "outputs": [],
   "source": [
    "dependent = 'hiv_incidence_rate_1549_years_old_percentage_midpoint'\n",
    "\n",
    "independent = [\n",
    "                'year', \n",
    "                'ismdgcountry',\n",
    "#                 'gdppc2012',\n",
    "                'islldc',\n",
    "                'isldc2014',\n",
    "#                 'mdgregions',\n",
    "#                 'oda_impute',\n",
    "#                 'received_oda',\n",
    "               'isssafrica',\n",
    "'oda_received_in_landlocked_developing_countries_million_us',\n",
    "# 'oda_received_in_landlocked_developing_countries_as_percentage_of_their_gni',\n",
    "# 'population_below_national_poverty_line_total_percentage',\n",
    "# 'oda_received_in_small_islands_developing_states_million_us',\n",
    "# 'purchasing_power_parities_ppp_conversion_factor_local_currency_unit_to_international_dollar',\n",
    "# 'women_1524_years_old_with_comprehensive_correct_knowledge_of_hivaids_percentage',\n",
    "# 'men_1524_years_old_with_comprehensive_correct_knowledge_of_hivaids_percentage',\n",
    "# 'population_below_national_poverty_line_total_percentage',\n",
    "# 'adolescent_birth_rate_per_1000_women',\n",
    "# 'condom_use_to_overall_contraceptive_use_among_currently_married_women_1549_years_old_percentage',\n",
    "# 'antenatal_care_coverage_at_least_one_visit_percentage',\n",
    "# 'antenatal_care_coverage_at_least_four_visits_percentage'\n",
    "              ]"
   ]
  },
  {
   "cell_type": "code",
   "execution_count": 32,
   "metadata": {
    "collapsed": false
   },
   "outputs": [
    {
     "name": "stdout",
     "output_type": "stream",
     "text": [
      "(523, 7)\n",
      "\n",
      "****PREDICTING\n",
      "hiv_incidence_rate_1549_years_old_percentage_midpoint\n",
      "                                              OLS Regression Results                                             \n",
      "=================================================================================================================\n",
      "Dep. Variable:     hiv_incidence_rate_1549_years_old_percentage_midpoint   R-squared:                       0.500\n",
      "Model:                                                               OLS   Adj. R-squared:                  0.495\n",
      "Method:                                                    Least Squares   F-statistic:                     103.2\n",
      "Date:                                                   Sat, 12 Sep 2015   Prob (F-statistic):           2.08e-75\n",
      "Time:                                                           21:06:27   Log-Likelihood:                -699.83\n",
      "No. Observations:                                                    523   AIC:                             1412.\n",
      "Df Residuals:                                                        517   BIC:                             1437.\n",
      "Df Model:                                                              5                                         \n",
      "Covariance Type:                                               nonrobust                                         \n",
      "==============================================================================================================================\n",
      "                                                                 coef    std err          t      P>|t|      [95.0% Conf. Int.]\n",
      "------------------------------------------------------------------------------------------------------------------------------\n",
      "Intercept                                                     30.5708      6.264      4.880      0.000        18.264    42.878\n",
      "year                                                          -0.0303      0.006     -4.846      0.000        -0.043    -0.018\n",
      "ismdgcountry                                                  30.5708      6.264      4.880      0.000        18.264    42.878\n",
      "islldc                                                         0.9059      0.198      4.576      0.000         0.517     1.295\n",
      "isldc2014                                                     -1.6232      0.110    -14.821      0.000        -1.838    -1.408\n",
      "isssafrica                                                     2.2057      0.110     20.056      0.000         1.990     2.422\n",
      "oda_received_in_landlocked_developing_countries_million_us    -0.0003   8.56e-05     -3.023      0.003        -0.000 -9.06e-05\n",
      "==============================================================================\n",
      "Omnibus:                      135.231   Durbin-Watson:                   0.151\n",
      "Prob(Omnibus):                  0.000   Jarque-Bera (JB):              260.637\n",
      "Skew:                           1.464   Prob(JB):                     2.53e-57\n",
      "Kurtosis:                       4.840   Cond. No.                     1.54e+20\n",
      "==============================================================================\n",
      "\n",
      "Warnings:\n",
      "[1] Standard Errors assume that the covariance matrix of the errors is correctly specified.\n",
      "[2] The smallest eigenvalue is 9.45e-32. This might indicate that there are\n",
      "strong multicollinearity problems or that the design matrix is singular.\n"
     ]
    }
   ],
   "source": [
    "model_me_data(dependent, independent, undata)"
   ]
  },
  {
   "cell_type": "code",
   "execution_count": null,
   "metadata": {
    "collapsed": true
   },
   "outputs": [],
   "source": [
    "# years = [year for year in set(undata['year'])]\n",
    "\n",
    "# for year in years:\n",
    "#     yeardata = undata[undata['year'] == year]\n",
    "#     print '\\n*****' + str(year)\n",
    "#     for col in yeardata.columns:\n",
    "#         if yeardata[col].count() > 80:\n",
    "#             print yeardata[col].count(), col"
   ]
  }
 ],
 "metadata": {
  "kernelspec": {
   "display_name": "Python 2",
   "language": "python",
   "name": "python2"
  },
  "language_info": {
   "codemirror_mode": {
    "name": "ipython",
    "version": 2
   },
   "file_extension": ".py",
   "mimetype": "text/x-python",
   "name": "python",
   "nbconvert_exporter": "python",
   "pygments_lexer": "ipython2",
   "version": "2.7.10"
  }
 },
 "nbformat": 4,
 "nbformat_minor": 0
}
