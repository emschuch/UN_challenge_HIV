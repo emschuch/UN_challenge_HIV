{
 "cells": [
  {
   "cell_type": "code",
   "execution_count": 1,
   "metadata": {
    "collapsed": true
   },
   "outputs": [],
   "source": [
    "import pandas as pd\n",
    "import numpy as np\n",
    "import pickle\n",
    "from copy import deepcopy\n",
    "\n",
    "from sqlalchemy_conn import engine"
   ]
  },
  {
   "cell_type": "markdown",
   "metadata": {},
   "source": [
    "### Getting data from database\n",
    "\n",
    "I set up a Postgres database on Amazon Web Services and used a pandasql engine to write SQL queries directly from Python. `sqlalchemy_conn` is script containing the connection details and includes my hostname and password to connect to the database.\n",
    "\n",
    "I was most interested in goals 1, 5, 6, and 8.\n",
    "\n",
    "* Goal 1: Eradicate extreme poverty and hunger\n",
    "* Goal 5: Improve maternal health\n",
    "* Goal 6: Combat HIV/AIDS, malaria, and other diseases\n",
    "* Goal 8: Develop a global partnership for development\n",
    "\n",
    "I first queried the database to see the specific targets associated with each of these goals."
   ]
  },
  {
   "cell_type": "code",
   "execution_count": 2,
   "metadata": {
    "collapsed": false
   },
   "outputs": [
    {
     "name": "stdout",
     "output_type": "stream",
     "text": [
      "Target 1.B: Achieve full and productive employment and decent work for all, including women and young people\n",
      "Target 1.A: Halve, between 1990 and 2015, the proportion of people whose income is less than one dollar a day\n",
      "Target 1.C: Halve, between 1990 and 2015, the proportion of people who suffer from hunger\n"
     ]
    }
   ],
   "source": [
    "query = 'SELECT DISTINCT targetname FROM undata WHERE goalid = 1'\n",
    "targets1 =  pd.read_sql(query, engine)\n",
    "for target in targets1['targetname']:\n",
    "    print target"
   ]
  },
  {
   "cell_type": "code",
   "execution_count": 3,
   "metadata": {
    "collapsed": false,
    "scrolled": true
   },
   "outputs": [
    {
     "name": "stdout",
     "output_type": "stream",
     "text": [
      "Target 5.A: Reduce by three quarters, between 1990 and 2015, the maternal mortality ratio\n",
      "Target 5.B: Achieve, by 2015, universal access to reproductive health\n"
     ]
    }
   ],
   "source": [
    "query = 'SELECT DISTINCT targetname FROM undata WHERE goalid = 5'\n",
    "targets5 =  pd.read_sql(query, engine)\n",
    "for target in targets5['targetname']:\n",
    "    print target"
   ]
  },
  {
   "cell_type": "code",
   "execution_count": 4,
   "metadata": {
    "collapsed": false
   },
   "outputs": [
    {
     "name": "stdout",
     "output_type": "stream",
     "text": [
      "Target 6.B: Achieve, by 2010, universal access to treatment for HIV/AIDS for all those who need it\n",
      "Target 6.C: Have halted by 2015 and begun to reverse the incidence of malaria and other major diseases\n",
      "Target 6.A: Have halted by 2015 and begun to reverse the spread of HIV/AIDS\n"
     ]
    }
   ],
   "source": [
    "query = 'SELECT DISTINCT targetname FROM undata WHERE goalid = 6'\n",
    "targets6 =  pd.read_sql(query, engine)\n",
    "for target in targets6['targetname']:\n",
    "    print target"
   ]
  },
  {
   "cell_type": "code",
   "execution_count": 5,
   "metadata": {
    "collapsed": false
   },
   "outputs": [
    {
     "name": "stdout",
     "output_type": "stream",
     "text": [
      "Target 8.B: Address the special needs of the least developed countries\n",
      "Target 8.A: Develop further an open, rule-based, predictable, non-discriminatory trading and financial system\n",
      "Target 8.C: Address the special needs of landlocked countries and small island developing States\n",
      "Target 8.D: Deal comprehensively with the debt problems of developing countries through national and international measures in order to make debt sustainable in the long term\n",
      "Target 8.F: In cooperation with the private sector, make available the benefits of new technologies, especially information and communications\n"
     ]
    }
   ],
   "source": [
    "query = 'SELECT DISTINCT targetname FROM undata WHERE goalid = 8'\n",
    "targets8 =  pd.read_sql(query, engine)\n",
    "for target in targets8['targetname']:\n",
    "    print target"
   ]
  },
  {
   "cell_type": "markdown",
   "metadata": {},
   "source": [
    "###Selecting targets to investigate & series to use\n",
    "\n",
    "I was particularly interested in Goal 6 and Target 6.A: Have halted by 2015 and begun to reverse the spread of HIV/AIDS. My questions:\n",
    "\n",
    "* What progress has been made in halting the spread of HIV/AIDS? \n",
    "* What factors may have contributed to this progress?\n",
    "\n",
    "I felt that there may be data associated with goals 1, 5, and 8 which could also help me answer these questions. I wanted to examine the relationships between the reduction of HIV/AIDS with a reduction in poverty, promoting maternal health, and development assistance.\n",
    "\n",
    "Next, I queried the database to see which series were available, keeping note of the target id for series which seemed like they might help answer my questions."
   ]
  },
  {
   "cell_type": "code",
   "execution_count": 6,
   "metadata": {
    "collapsed": false
   },
   "outputs": [
    {
     "name": "stdout",
     "output_type": "stream",
     "text": [
      "Share of youth unemployed to youth population, men\n",
      "Purchasing power parities (PPP) conversion factor, local currency unit to international dollar\n",
      "Children under 5 severely underweight, percentage\n",
      "Poorest quintile&quot;s share in national income or consumption, percentage\n",
      "Proportion of own-account and contributing family workers in total employment, women, percentage\n",
      "Children under 5 moderately or severely underweight, percentage\n",
      "Ratio of youth unemployment rate to adult unemployment rate, men\n",
      "Growth rate of GDP per person employed, percentage\n",
      "Ratio of youth unemployment rate to adult unemployment rate, women\n",
      "Employment-to-population ratio, men, percentage\n",
      "Employment-to-population ratio, both sexes, percentage\n",
      "Share of youth unemployed to total unemployed, women\n",
      "Youth unemployment rate, aged 15-24, women\n",
      "Youth unemployment rate, aged 15-24, both sexes\n",
      "Youth unemployment rate, aged 15-24, men\n",
      "Population undernourished, millions\n",
      "Proportion of own-account and contributing family workers in total employment, men, percentage\n",
      "Proportion of own-account and contributing family workers in total employment, both sexes, percentage\n",
      "Share of youth unemployed to youth population, women\n",
      "Population below national poverty line, rural, percentage\n",
      "Poverty gap ratio at $1.25 a day (PPP), percentage\n",
      "Employment-to-population ratio, women, percentage\n",
      "Share of youth unemployed to youth population, both sexes\n",
      "Population below national poverty line, total, percentage\n",
      "Ratio of youth unemployment rate to adult unemployment rate, both sexes\n",
      "Population below $1.25 (PPP) per day, percentage\n",
      "Share of youth unemployed to total unemployed, both sexes\n",
      "Proportion of employed people living below $1 (PPP) per day, percentage\n",
      "Share of youth unemployed to total unemployed, men\n",
      "Population undernourished, percentage\n",
      "Population below national poverty line, urban, percentage\n"
     ]
    }
   ],
   "source": [
    "# PRINT FULL SERIES NAMES FOR GOAL 1\n",
    "\n",
    "query = \"SELECT DISTINCT targetid, seriesrowid, seriesname FROM undata WHERE goalid = 1;\"\n",
    "series1 = pd.read_sql(query, engine)\n",
    "for name in series1['seriesname']:\n",
    "    print name"
   ]
  },
  {
   "cell_type": "code",
   "execution_count": 7,
   "metadata": {
    "collapsed": false
   },
   "outputs": [
    {
     "data": {
      "text/html": [
       "<div style=\"max-height:1000px;max-width:1500px;overflow:auto;\">\n",
       "<table border=\"1\" class=\"dataframe\">\n",
       "  <thead>\n",
       "    <tr style=\"text-align: right;\">\n",
       "      <th></th>\n",
       "      <th>targetid</th>\n",
       "      <th>seriesrowid</th>\n",
       "      <th>seriesname</th>\n",
       "    </tr>\n",
       "  </thead>\n",
       "  <tbody>\n",
       "    <tr>\n",
       "      <th>0</th>\n",
       "      <td>16</td>\n",
       "      <td>678</td>\n",
       "      <td>Share of youth unemployed to youth population,...</td>\n",
       "    </tr>\n",
       "    <tr>\n",
       "      <th>1</th>\n",
       "      <td>1</td>\n",
       "      <td>699</td>\n",
       "      <td>Purchasing power parities (PPP) conversion fac...</td>\n",
       "    </tr>\n",
       "    <tr>\n",
       "      <th>2</th>\n",
       "      <td>2</td>\n",
       "      <td>560</td>\n",
       "      <td>Children under 5 severely underweight, percentage</td>\n",
       "    </tr>\n",
       "    <tr>\n",
       "      <th>3</th>\n",
       "      <td>1</td>\n",
       "      <td>585</td>\n",
       "      <td>Poorest quintile&amp;quot;s share in national inco...</td>\n",
       "    </tr>\n",
       "    <tr>\n",
       "      <th>4</th>\n",
       "      <td>16</td>\n",
       "      <td>773</td>\n",
       "      <td>Proportion of own-account and contributing fam...</td>\n",
       "    </tr>\n",
       "    <tr>\n",
       "      <th>5</th>\n",
       "      <td>2</td>\n",
       "      <td>559</td>\n",
       "      <td>Children under 5 moderately or severely underw...</td>\n",
       "    </tr>\n",
       "    <tr>\n",
       "      <th>6</th>\n",
       "      <td>16</td>\n",
       "      <td>672</td>\n",
       "      <td>Ratio of youth unemployment rate to adult unem...</td>\n",
       "    </tr>\n",
       "    <tr>\n",
       "      <th>7</th>\n",
       "      <td>16</td>\n",
       "      <td>757</td>\n",
       "      <td>Growth rate of GDP per person employed, percen...</td>\n",
       "    </tr>\n",
       "    <tr>\n",
       "      <th>8</th>\n",
       "      <td>16</td>\n",
       "      <td>673</td>\n",
       "      <td>Ratio of youth unemployment rate to adult unem...</td>\n",
       "    </tr>\n",
       "    <tr>\n",
       "      <th>9</th>\n",
       "      <td>16</td>\n",
       "      <td>770</td>\n",
       "      <td>Employment-to-population ratio, men, percentage</td>\n",
       "    </tr>\n",
       "    <tr>\n",
       "      <th>10</th>\n",
       "      <td>16</td>\n",
       "      <td>758</td>\n",
       "      <td>Employment-to-population ratio, both sexes, pe...</td>\n",
       "    </tr>\n",
       "    <tr>\n",
       "      <th>11</th>\n",
       "      <td>16</td>\n",
       "      <td>676</td>\n",
       "      <td>Share of youth unemployed to total unemployed,...</td>\n",
       "    </tr>\n",
       "    <tr>\n",
       "      <th>12</th>\n",
       "      <td>16</td>\n",
       "      <td>596</td>\n",
       "      <td>Youth unemployment rate, aged 15-24, women</td>\n",
       "    </tr>\n",
       "    <tr>\n",
       "      <th>13</th>\n",
       "      <td>16</td>\n",
       "      <td>630</td>\n",
       "      <td>Youth unemployment rate, aged 15-24, both sexes</td>\n",
       "    </tr>\n",
       "    <tr>\n",
       "      <th>14</th>\n",
       "      <td>16</td>\n",
       "      <td>597</td>\n",
       "      <td>Youth unemployment rate, aged 15-24, men</td>\n",
       "    </tr>\n",
       "    <tr>\n",
       "      <th>15</th>\n",
       "      <td>2</td>\n",
       "      <td>640</td>\n",
       "      <td>Population undernourished, millions</td>\n",
       "    </tr>\n",
       "    <tr>\n",
       "      <th>16</th>\n",
       "      <td>16</td>\n",
       "      <td>772</td>\n",
       "      <td>Proportion of own-account and contributing fam...</td>\n",
       "    </tr>\n",
       "    <tr>\n",
       "      <th>17</th>\n",
       "      <td>16</td>\n",
       "      <td>760</td>\n",
       "      <td>Proportion of own-account and contributing fam...</td>\n",
       "    </tr>\n",
       "    <tr>\n",
       "      <th>18</th>\n",
       "      <td>16</td>\n",
       "      <td>679</td>\n",
       "      <td>Share of youth unemployed to youth population,...</td>\n",
       "    </tr>\n",
       "    <tr>\n",
       "      <th>19</th>\n",
       "      <td>1</td>\n",
       "      <td>583</td>\n",
       "      <td>Population below national poverty line, rural,...</td>\n",
       "    </tr>\n",
       "    <tr>\n",
       "      <th>20</th>\n",
       "      <td>1</td>\n",
       "      <td>584</td>\n",
       "      <td>Poverty gap ratio at $1.25 a day (PPP), percen...</td>\n",
       "    </tr>\n",
       "    <tr>\n",
       "      <th>21</th>\n",
       "      <td>16</td>\n",
       "      <td>771</td>\n",
       "      <td>Employment-to-population ratio, women, percentage</td>\n",
       "    </tr>\n",
       "    <tr>\n",
       "      <th>22</th>\n",
       "      <td>16</td>\n",
       "      <td>677</td>\n",
       "      <td>Share of youth unemployed to youth population,...</td>\n",
       "    </tr>\n",
       "    <tr>\n",
       "      <th>23</th>\n",
       "      <td>1</td>\n",
       "      <td>581</td>\n",
       "      <td>Population below national poverty line, total,...</td>\n",
       "    </tr>\n",
       "    <tr>\n",
       "      <th>24</th>\n",
       "      <td>16</td>\n",
       "      <td>671</td>\n",
       "      <td>Ratio of youth unemployment rate to adult unem...</td>\n",
       "    </tr>\n",
       "    <tr>\n",
       "      <th>25</th>\n",
       "      <td>1</td>\n",
       "      <td>580</td>\n",
       "      <td>Population below $1.25 (PPP) per day, percentage</td>\n",
       "    </tr>\n",
       "    <tr>\n",
       "      <th>26</th>\n",
       "      <td>16</td>\n",
       "      <td>674</td>\n",
       "      <td>Share of youth unemployed to total unemployed,...</td>\n",
       "    </tr>\n",
       "    <tr>\n",
       "      <th>27</th>\n",
       "      <td>16</td>\n",
       "      <td>759</td>\n",
       "      <td>Proportion of employed people living below $1 ...</td>\n",
       "    </tr>\n",
       "    <tr>\n",
       "      <th>28</th>\n",
       "      <td>16</td>\n",
       "      <td>675</td>\n",
       "      <td>Share of youth unemployed to total unemployed,...</td>\n",
       "    </tr>\n",
       "    <tr>\n",
       "      <th>29</th>\n",
       "      <td>2</td>\n",
       "      <td>566</td>\n",
       "      <td>Population undernourished, percentage</td>\n",
       "    </tr>\n",
       "    <tr>\n",
       "      <th>30</th>\n",
       "      <td>1</td>\n",
       "      <td>582</td>\n",
       "      <td>Population below national poverty line, urban,...</td>\n",
       "    </tr>\n",
       "  </tbody>\n",
       "</table>\n",
       "</div>"
      ],
      "text/plain": [
       "    targetid  seriesrowid                                         seriesname\n",
       "0         16          678  Share of youth unemployed to youth population,...\n",
       "1          1          699  Purchasing power parities (PPP) conversion fac...\n",
       "2          2          560  Children under 5 severely underweight, percentage\n",
       "3          1          585  Poorest quintile&quot;s share in national inco...\n",
       "4         16          773  Proportion of own-account and contributing fam...\n",
       "5          2          559  Children under 5 moderately or severely underw...\n",
       "6         16          672  Ratio of youth unemployment rate to adult unem...\n",
       "7         16          757  Growth rate of GDP per person employed, percen...\n",
       "8         16          673  Ratio of youth unemployment rate to adult unem...\n",
       "9         16          770    Employment-to-population ratio, men, percentage\n",
       "10        16          758  Employment-to-population ratio, both sexes, pe...\n",
       "11        16          676  Share of youth unemployed to total unemployed,...\n",
       "12        16          596         Youth unemployment rate, aged 15-24, women\n",
       "13        16          630    Youth unemployment rate, aged 15-24, both sexes\n",
       "14        16          597           Youth unemployment rate, aged 15-24, men\n",
       "15         2          640                Population undernourished, millions\n",
       "16        16          772  Proportion of own-account and contributing fam...\n",
       "17        16          760  Proportion of own-account and contributing fam...\n",
       "18        16          679  Share of youth unemployed to youth population,...\n",
       "19         1          583  Population below national poverty line, rural,...\n",
       "20         1          584  Poverty gap ratio at $1.25 a day (PPP), percen...\n",
       "21        16          771  Employment-to-population ratio, women, percentage\n",
       "22        16          677  Share of youth unemployed to youth population,...\n",
       "23         1          581  Population below national poverty line, total,...\n",
       "24        16          671  Ratio of youth unemployment rate to adult unem...\n",
       "25         1          580   Population below $1.25 (PPP) per day, percentage\n",
       "26        16          674  Share of youth unemployed to total unemployed,...\n",
       "27        16          759  Proportion of employed people living below $1 ...\n",
       "28        16          675  Share of youth unemployed to total unemployed,...\n",
       "29         2          566              Population undernourished, percentage\n",
       "30         1          582  Population below national poverty line, urban,..."
      ]
     },
     "execution_count": 7,
     "metadata": {},
     "output_type": "execute_result"
    }
   ],
   "source": [
    "# PRINT TABLE\n",
    "\n",
    "series1"
   ]
  },
  {
   "cell_type": "code",
   "execution_count": 8,
   "metadata": {
    "collapsed": false
   },
   "outputs": [
    {
     "name": "stdout",
     "output_type": "stream",
     "text": [
      "Current contraceptive use among married women 15-49 years old, any method, percentage\n",
      "Unmet need for family planning, total, percentage\n",
      "Current contraceptive use among married women 15-49 years old, modern methods, percentage\n",
      "Unmet need for family planning, limiting, percentage\n",
      "Antenatal care coverage, at least four visits, percentage\n",
      "Antenatal care coverage, at least one visit, percentage\n",
      "Unmet need for family planning, spacing, percentage\n",
      "Adolescent birth rate, per 1,000 women\n",
      "Maternal mortality ratio per 100,000 live births\n",
      "Births attended by skilled health personnel, percentage\n",
      "Current contraceptive use among married women 15-49 years old, condom, percentage\n"
     ]
    }
   ],
   "source": [
    "# PRINT FULL SERIES NAMES FOR GOAL 5\n",
    "\n",
    "query = \"SELECT DISTINCT targetid, seriesrowid, seriesname FROM undata WHERE goalid = 5;\"\n",
    "series5 = pd.read_sql(query, engine)\n",
    "for name in series5['seriesname']:\n",
    "    print name"
   ]
  },
  {
   "cell_type": "code",
   "execution_count": 9,
   "metadata": {
    "collapsed": false
   },
   "outputs": [
    {
     "data": {
      "text/html": [
       "<div style=\"max-height:1000px;max-width:1500px;overflow:auto;\">\n",
       "<table border=\"1\" class=\"dataframe\">\n",
       "  <thead>\n",
       "    <tr style=\"text-align: right;\">\n",
       "      <th></th>\n",
       "      <th>targetid</th>\n",
       "      <th>seriesrowid</th>\n",
       "      <th>seriesname</th>\n",
       "    </tr>\n",
       "  </thead>\n",
       "  <tbody>\n",
       "    <tr>\n",
       "      <th>0</th>\n",
       "      <td>19</td>\n",
       "      <td>730</td>\n",
       "      <td>Current contraceptive use among married women ...</td>\n",
       "    </tr>\n",
       "    <tr>\n",
       "      <th>1</th>\n",
       "      <td>19</td>\n",
       "      <td>764</td>\n",
       "      <td>Unmet need for family planning, total, percentage</td>\n",
       "    </tr>\n",
       "    <tr>\n",
       "      <th>2</th>\n",
       "      <td>19</td>\n",
       "      <td>731</td>\n",
       "      <td>Current contraceptive use among married women ...</td>\n",
       "    </tr>\n",
       "    <tr>\n",
       "      <th>3</th>\n",
       "      <td>19</td>\n",
       "      <td>778</td>\n",
       "      <td>Unmet need for family planning, limiting, perc...</td>\n",
       "    </tr>\n",
       "    <tr>\n",
       "      <th>4</th>\n",
       "      <td>19</td>\n",
       "      <td>763</td>\n",
       "      <td>Antenatal care coverage, at least four visits,...</td>\n",
       "    </tr>\n",
       "    <tr>\n",
       "      <th>5</th>\n",
       "      <td>19</td>\n",
       "      <td>762</td>\n",
       "      <td>Antenatal care coverage, at least one visit, p...</td>\n",
       "    </tr>\n",
       "    <tr>\n",
       "      <th>6</th>\n",
       "      <td>19</td>\n",
       "      <td>777</td>\n",
       "      <td>Unmet need for family planning, spacing, perce...</td>\n",
       "    </tr>\n",
       "    <tr>\n",
       "      <th>7</th>\n",
       "      <td>19</td>\n",
       "      <td>761</td>\n",
       "      <td>Adolescent birth rate, per 1,000 women</td>\n",
       "    </tr>\n",
       "    <tr>\n",
       "      <th>8</th>\n",
       "      <td>6</td>\n",
       "      <td>553</td>\n",
       "      <td>Maternal mortality ratio per 100,000 live births</td>\n",
       "    </tr>\n",
       "    <tr>\n",
       "      <th>9</th>\n",
       "      <td>6</td>\n",
       "      <td>570</td>\n",
       "      <td>Births attended by skilled health personnel, p...</td>\n",
       "    </tr>\n",
       "    <tr>\n",
       "      <th>10</th>\n",
       "      <td>19</td>\n",
       "      <td>732</td>\n",
       "      <td>Current contraceptive use among married women ...</td>\n",
       "    </tr>\n",
       "  </tbody>\n",
       "</table>\n",
       "</div>"
      ],
      "text/plain": [
       "    targetid  seriesrowid                                         seriesname\n",
       "0         19          730  Current contraceptive use among married women ...\n",
       "1         19          764  Unmet need for family planning, total, percentage\n",
       "2         19          731  Current contraceptive use among married women ...\n",
       "3         19          778  Unmet need for family planning, limiting, perc...\n",
       "4         19          763  Antenatal care coverage, at least four visits,...\n",
       "5         19          762  Antenatal care coverage, at least one visit, p...\n",
       "6         19          777  Unmet need for family planning, spacing, perce...\n",
       "7         19          761             Adolescent birth rate, per 1,000 women\n",
       "8          6          553   Maternal mortality ratio per 100,000 live births\n",
       "9          6          570  Births attended by skilled health personnel, p...\n",
       "10        19          732  Current contraceptive use among married women ..."
      ]
     },
     "execution_count": 9,
     "metadata": {},
     "output_type": "execute_result"
    }
   ],
   "source": [
    "# PRINT TABLE\n",
    "\n",
    "series5"
   ]
  },
  {
   "cell_type": "code",
   "execution_count": 10,
   "metadata": {
    "collapsed": false
   },
   "outputs": [
    {
     "name": "stdout",
     "output_type": "stream",
     "text": [
      "AIDS deaths\n",
      "AIDS orphans (one or both parents)\n",
      "Ratio of school attendance rate of orphans to school attendance rate of non orphans\n",
      "People living with HIV, 15-49 years old, percentage\n",
      "Condom use to overall contraceptive use among currently married women 15-49 years old, percentage\n",
      "Condom use at last high-risk sex, 15-24 years old, men, percentage\n",
      "Condom use at last high-risk sex, 15-24 years old, women, percentage\n",
      "Men 15-24 years old with comprehensive correct knowledge of HIV/AIDS, percentage\n",
      "Women 15-24 years old with comprehensive correct knowledge of HIV/AIDS, percentage\n",
      "HIV prevalence rate, men 15-49 years old, in national based surveys\n",
      "HIV prevalence rate, women 15-49 years old, in national based surveys\n",
      "School attendance rate of orphans aged 10-14\n",
      "School attendance rate of children aged 10-14 both of whose parents are alive and who live with at least one parent\n",
      "AIDS deaths (lower bound)\n",
      "AIDS deaths (upper bound)\n",
      "People living with HIV, 15-49 years old, percentage (lower bound)\n",
      "People living with HIV, 15-49 years old, percentage (upper bound)\n",
      "HIV incidence rate, 15-49 years old, percentage (mid-point)\n",
      "HIV incidence rate, 15-49 years old, percentage (upper bound)\n",
      "HIV incidence rate, 15-49 years old, percentage (lower bound)\n",
      "Tuberculosis prevalence rate per 100,000 population (mid-point)\n",
      "Tuberculosis treatment success rate under DOTS, percentage\n",
      "Notified cases of malaria per 100,000 population\n",
      "Children under 5 sleeping under insecticide-treated bed nets, percentage\n",
      "Children under 5 with fever being treated with anti-malarial drugs, percentage\n",
      "Tuberculosis death rate per year per 100,000 population (mid-point)\n",
      "Malaria death rate per 100,000 population, all ages\n",
      "Malaria death rate per 100,000 population, ages 0-4\n",
      "Tuberculosis detection rate under DOTS, percentage (mid-point)\n",
      "Tuberculosis incidence rate per year per 100,000 population (mid-point)\n",
      "Tuberculosis incidence rate per year per 100,000 population (lower bound)\n",
      "Tuberculosis incidence rate per year per 100,000 population (upper bound)\n",
      "Tuberculosis prevalence rate per 100,000 population (lower bound)\n",
      "Tuberculosis prevalence rate per 100,000 population (upper bound)\n",
      "Tuberculosis death rate per year per 100,000 population (lower bound)\n",
      "Tuberculosis death rate per year per 100,000 population (upper bound)\n",
      "Tuberculosis detection rate under DOTS, percentage (lower bound)\n",
      "Tuberculosis detection rate under DOTS, percentage (upper bound)\n",
      "Antiretroviral therapy coverage among people with advanced HIV infection, percentage\n",
      "Antiretroviral therapy coverage among people with advanced HIV infection, percentage (upper bound)\n",
      "Antiretroviral therapy coverage among people with advanced HIV infection, percentage (lower bound)\n",
      "Percentage of HIV-infected pregnant women who received antiretroviral drugs to reduce the risk for mother-to-child transmission (Mid point)\n",
      "Percentage of HIV-infected pregnant women who received antiretroviral drugs to reduce the risk for mother-to-child transmission (upper bound)\n",
      "Percentage of HIV-infected pregnant women who received antiretroviral drugs to reduce the risk for mother-to-child transmission (lower bound)\n"
     ]
    }
   ],
   "source": [
    "# PRINT FULL SERIES NAMES FOR GOAL 6\n",
    "\n",
    "query = \"SELECT DISTINCT targetid, seriesrowid, seriesname FROM undata WHERE goalid = 6;\"\n",
    "series6 = pd.read_sql(query, engine)\n",
    "for name in series6['seriesname']:\n",
    "    print name"
   ]
  },
  {
   "cell_type": "code",
   "execution_count": 11,
   "metadata": {
    "collapsed": false
   },
   "outputs": [
    {
     "data": {
      "text/html": [
       "<div style=\"max-height:1000px;max-width:1500px;overflow:auto;\">\n",
       "<table border=\"1\" class=\"dataframe\">\n",
       "  <thead>\n",
       "    <tr style=\"text-align: right;\">\n",
       "      <th></th>\n",
       "      <th>targetid</th>\n",
       "      <th>seriesrowid</th>\n",
       "      <th>seriesname</th>\n",
       "    </tr>\n",
       "  </thead>\n",
       "  <tbody>\n",
       "    <tr>\n",
       "      <th>0</th>\n",
       "      <td>7</td>\n",
       "      <td>579</td>\n",
       "      <td>AIDS deaths</td>\n",
       "    </tr>\n",
       "    <tr>\n",
       "      <th>1</th>\n",
       "      <td>7</td>\n",
       "      <td>622</td>\n",
       "      <td>AIDS orphans (one or both parents)</td>\n",
       "    </tr>\n",
       "    <tr>\n",
       "      <th>2</th>\n",
       "      <td>7</td>\n",
       "      <td>726</td>\n",
       "      <td>Ratio of school attendance rate of orphans to ...</td>\n",
       "    </tr>\n",
       "    <tr>\n",
       "      <th>3</th>\n",
       "      <td>7</td>\n",
       "      <td>729</td>\n",
       "      <td>People living with HIV, 15-49 years old, perce...</td>\n",
       "    </tr>\n",
       "    <tr>\n",
       "      <th>4</th>\n",
       "      <td>7</td>\n",
       "      <td>733</td>\n",
       "      <td>Condom use to overall contraceptive use among ...</td>\n",
       "    </tr>\n",
       "    <tr>\n",
       "      <th>5</th>\n",
       "      <td>7</td>\n",
       "      <td>734</td>\n",
       "      <td>Condom use at last high-risk sex, 15-24 years ...</td>\n",
       "    </tr>\n",
       "    <tr>\n",
       "      <th>6</th>\n",
       "      <td>7</td>\n",
       "      <td>735</td>\n",
       "      <td>Condom use at last high-risk sex, 15-24 years ...</td>\n",
       "    </tr>\n",
       "    <tr>\n",
       "      <th>7</th>\n",
       "      <td>7</td>\n",
       "      <td>741</td>\n",
       "      <td>Men 15-24 years old with comprehensive correct...</td>\n",
       "    </tr>\n",
       "    <tr>\n",
       "      <th>8</th>\n",
       "      <td>7</td>\n",
       "      <td>742</td>\n",
       "      <td>Women 15-24 years old with comprehensive corre...</td>\n",
       "    </tr>\n",
       "    <tr>\n",
       "      <th>9</th>\n",
       "      <td>7</td>\n",
       "      <td>747</td>\n",
       "      <td>HIV prevalence rate, men 15-49 years old, in n...</td>\n",
       "    </tr>\n",
       "    <tr>\n",
       "      <th>10</th>\n",
       "      <td>7</td>\n",
       "      <td>748</td>\n",
       "      <td>HIV prevalence rate, women 15-49 years old, in...</td>\n",
       "    </tr>\n",
       "    <tr>\n",
       "      <th>11</th>\n",
       "      <td>7</td>\n",
       "      <td>781</td>\n",
       "      <td>School attendance rate of orphans aged 10-14</td>\n",
       "    </tr>\n",
       "    <tr>\n",
       "      <th>12</th>\n",
       "      <td>7</td>\n",
       "      <td>782</td>\n",
       "      <td>School attendance rate of children aged 10-14 ...</td>\n",
       "    </tr>\n",
       "    <tr>\n",
       "      <th>13</th>\n",
       "      <td>7</td>\n",
       "      <td>797</td>\n",
       "      <td>AIDS deaths (lower bound)</td>\n",
       "    </tr>\n",
       "    <tr>\n",
       "      <th>14</th>\n",
       "      <td>7</td>\n",
       "      <td>798</td>\n",
       "      <td>AIDS deaths (upper bound)</td>\n",
       "    </tr>\n",
       "    <tr>\n",
       "      <th>15</th>\n",
       "      <td>7</td>\n",
       "      <td>799</td>\n",
       "      <td>People living with HIV, 15-49 years old, perce...</td>\n",
       "    </tr>\n",
       "    <tr>\n",
       "      <th>16</th>\n",
       "      <td>7</td>\n",
       "      <td>800</td>\n",
       "      <td>People living with HIV, 15-49 years old, perce...</td>\n",
       "    </tr>\n",
       "    <tr>\n",
       "      <th>17</th>\n",
       "      <td>7</td>\n",
       "      <td>801</td>\n",
       "      <td>HIV incidence rate, 15-49 years old, percentag...</td>\n",
       "    </tr>\n",
       "    <tr>\n",
       "      <th>18</th>\n",
       "      <td>7</td>\n",
       "      <td>802</td>\n",
       "      <td>HIV incidence rate, 15-49 years old, percentag...</td>\n",
       "    </tr>\n",
       "    <tr>\n",
       "      <th>19</th>\n",
       "      <td>7</td>\n",
       "      <td>803</td>\n",
       "      <td>HIV incidence rate, 15-49 years old, percentag...</td>\n",
       "    </tr>\n",
       "    <tr>\n",
       "      <th>20</th>\n",
       "      <td>8</td>\n",
       "      <td>617</td>\n",
       "      <td>Tuberculosis prevalence rate per 100,000 popul...</td>\n",
       "    </tr>\n",
       "    <tr>\n",
       "      <th>21</th>\n",
       "      <td>8</td>\n",
       "      <td>618</td>\n",
       "      <td>Tuberculosis treatment success rate under DOTS...</td>\n",
       "    </tr>\n",
       "    <tr>\n",
       "      <th>22</th>\n",
       "      <td>8</td>\n",
       "      <td>644</td>\n",
       "      <td>Notified cases of malaria per 100,000 population</td>\n",
       "    </tr>\n",
       "    <tr>\n",
       "      <th>23</th>\n",
       "      <td>8</td>\n",
       "      <td>645</td>\n",
       "      <td>Children under 5 sleeping under insecticide-tr...</td>\n",
       "    </tr>\n",
       "    <tr>\n",
       "      <th>24</th>\n",
       "      <td>8</td>\n",
       "      <td>646</td>\n",
       "      <td>Children under 5 with fever being treated with...</td>\n",
       "    </tr>\n",
       "    <tr>\n",
       "      <th>25</th>\n",
       "      <td>8</td>\n",
       "      <td>647</td>\n",
       "      <td>Tuberculosis death rate per year per 100,000 p...</td>\n",
       "    </tr>\n",
       "    <tr>\n",
       "      <th>26</th>\n",
       "      <td>8</td>\n",
       "      <td>663</td>\n",
       "      <td>Malaria death rate per 100,000 population, all...</td>\n",
       "    </tr>\n",
       "    <tr>\n",
       "      <th>27</th>\n",
       "      <td>8</td>\n",
       "      <td>664</td>\n",
       "      <td>Malaria death rate per 100,000 population, age...</td>\n",
       "    </tr>\n",
       "    <tr>\n",
       "      <th>28</th>\n",
       "      <td>8</td>\n",
       "      <td>718</td>\n",
       "      <td>Tuberculosis detection rate under DOTS, percen...</td>\n",
       "    </tr>\n",
       "    <tr>\n",
       "      <th>29</th>\n",
       "      <td>8</td>\n",
       "      <td>766</td>\n",
       "      <td>Tuberculosis incidence rate per year per 100,0...</td>\n",
       "    </tr>\n",
       "    <tr>\n",
       "      <th>30</th>\n",
       "      <td>8</td>\n",
       "      <td>789</td>\n",
       "      <td>Tuberculosis incidence rate per year per 100,0...</td>\n",
       "    </tr>\n",
       "    <tr>\n",
       "      <th>31</th>\n",
       "      <td>8</td>\n",
       "      <td>790</td>\n",
       "      <td>Tuberculosis incidence rate per year per 100,0...</td>\n",
       "    </tr>\n",
       "    <tr>\n",
       "      <th>32</th>\n",
       "      <td>8</td>\n",
       "      <td>791</td>\n",
       "      <td>Tuberculosis prevalence rate per 100,000 popul...</td>\n",
       "    </tr>\n",
       "    <tr>\n",
       "      <th>33</th>\n",
       "      <td>8</td>\n",
       "      <td>792</td>\n",
       "      <td>Tuberculosis prevalence rate per 100,000 popul...</td>\n",
       "    </tr>\n",
       "    <tr>\n",
       "      <th>34</th>\n",
       "      <td>8</td>\n",
       "      <td>793</td>\n",
       "      <td>Tuberculosis death rate per year per 100,000 p...</td>\n",
       "    </tr>\n",
       "    <tr>\n",
       "      <th>35</th>\n",
       "      <td>8</td>\n",
       "      <td>794</td>\n",
       "      <td>Tuberculosis death rate per year per 100,000 p...</td>\n",
       "    </tr>\n",
       "    <tr>\n",
       "      <th>36</th>\n",
       "      <td>8</td>\n",
       "      <td>795</td>\n",
       "      <td>Tuberculosis detection rate under DOTS, percen...</td>\n",
       "    </tr>\n",
       "    <tr>\n",
       "      <th>37</th>\n",
       "      <td>8</td>\n",
       "      <td>796</td>\n",
       "      <td>Tuberculosis detection rate under DOTS, percen...</td>\n",
       "    </tr>\n",
       "    <tr>\n",
       "      <th>38</th>\n",
       "      <td>20</td>\n",
       "      <td>765</td>\n",
       "      <td>Antiretroviral therapy coverage among people w...</td>\n",
       "    </tr>\n",
       "    <tr>\n",
       "      <th>39</th>\n",
       "      <td>20</td>\n",
       "      <td>804</td>\n",
       "      <td>Antiretroviral therapy coverage among people w...</td>\n",
       "    </tr>\n",
       "    <tr>\n",
       "      <th>40</th>\n",
       "      <td>20</td>\n",
       "      <td>805</td>\n",
       "      <td>Antiretroviral therapy coverage among people w...</td>\n",
       "    </tr>\n",
       "    <tr>\n",
       "      <th>41</th>\n",
       "      <td>20</td>\n",
       "      <td>806</td>\n",
       "      <td>Percentage of HIV-infected pregnant women who ...</td>\n",
       "    </tr>\n",
       "    <tr>\n",
       "      <th>42</th>\n",
       "      <td>20</td>\n",
       "      <td>807</td>\n",
       "      <td>Percentage of HIV-infected pregnant women who ...</td>\n",
       "    </tr>\n",
       "    <tr>\n",
       "      <th>43</th>\n",
       "      <td>20</td>\n",
       "      <td>808</td>\n",
       "      <td>Percentage of HIV-infected pregnant women who ...</td>\n",
       "    </tr>\n",
       "  </tbody>\n",
       "</table>\n",
       "</div>"
      ],
      "text/plain": [
       "    targetid  seriesrowid                                         seriesname\n",
       "0          7          579                                        AIDS deaths\n",
       "1          7          622                 AIDS orphans (one or both parents)\n",
       "2          7          726  Ratio of school attendance rate of orphans to ...\n",
       "3          7          729  People living with HIV, 15-49 years old, perce...\n",
       "4          7          733  Condom use to overall contraceptive use among ...\n",
       "5          7          734  Condom use at last high-risk sex, 15-24 years ...\n",
       "6          7          735  Condom use at last high-risk sex, 15-24 years ...\n",
       "7          7          741  Men 15-24 years old with comprehensive correct...\n",
       "8          7          742  Women 15-24 years old with comprehensive corre...\n",
       "9          7          747  HIV prevalence rate, men 15-49 years old, in n...\n",
       "10         7          748  HIV prevalence rate, women 15-49 years old, in...\n",
       "11         7          781       School attendance rate of orphans aged 10-14\n",
       "12         7          782  School attendance rate of children aged 10-14 ...\n",
       "13         7          797                          AIDS deaths (lower bound)\n",
       "14         7          798                          AIDS deaths (upper bound)\n",
       "15         7          799  People living with HIV, 15-49 years old, perce...\n",
       "16         7          800  People living with HIV, 15-49 years old, perce...\n",
       "17         7          801  HIV incidence rate, 15-49 years old, percentag...\n",
       "18         7          802  HIV incidence rate, 15-49 years old, percentag...\n",
       "19         7          803  HIV incidence rate, 15-49 years old, percentag...\n",
       "20         8          617  Tuberculosis prevalence rate per 100,000 popul...\n",
       "21         8          618  Tuberculosis treatment success rate under DOTS...\n",
       "22         8          644   Notified cases of malaria per 100,000 population\n",
       "23         8          645  Children under 5 sleeping under insecticide-tr...\n",
       "24         8          646  Children under 5 with fever being treated with...\n",
       "25         8          647  Tuberculosis death rate per year per 100,000 p...\n",
       "26         8          663  Malaria death rate per 100,000 population, all...\n",
       "27         8          664  Malaria death rate per 100,000 population, age...\n",
       "28         8          718  Tuberculosis detection rate under DOTS, percen...\n",
       "29         8          766  Tuberculosis incidence rate per year per 100,0...\n",
       "30         8          789  Tuberculosis incidence rate per year per 100,0...\n",
       "31         8          790  Tuberculosis incidence rate per year per 100,0...\n",
       "32         8          791  Tuberculosis prevalence rate per 100,000 popul...\n",
       "33         8          792  Tuberculosis prevalence rate per 100,000 popul...\n",
       "34         8          793  Tuberculosis death rate per year per 100,000 p...\n",
       "35         8          794  Tuberculosis death rate per year per 100,000 p...\n",
       "36         8          795  Tuberculosis detection rate under DOTS, percen...\n",
       "37         8          796  Tuberculosis detection rate under DOTS, percen...\n",
       "38        20          765  Antiretroviral therapy coverage among people w...\n",
       "39        20          804  Antiretroviral therapy coverage among people w...\n",
       "40        20          805  Antiretroviral therapy coverage among people w...\n",
       "41        20          806  Percentage of HIV-infected pregnant women who ...\n",
       "42        20          807  Percentage of HIV-infected pregnant women who ...\n",
       "43        20          808  Percentage of HIV-infected pregnant women who ..."
      ]
     },
     "execution_count": 11,
     "metadata": {},
     "output_type": "execute_result"
    }
   ],
   "source": [
    "# PRINT TABLE\n",
    "\n",
    "series6"
   ]
  },
  {
   "cell_type": "code",
   "execution_count": 12,
   "metadata": {
    "collapsed": false
   },
   "outputs": [
    {
     "name": "stdout",
     "output_type": "stream",
     "text": [
      "Debt relief delivered in full under MDRI initiative, cumulative million US$ in end-2009 NPV terms\n",
      "Mobile-cellular subscriptions\n",
      "Fixed-telephone subscriptions per 100 inhabitants\n",
      "Agriculture support estimate for OECD countries, million US$\n",
      "Mobile-cellular subscriptions per 100 inhabitants\n",
      "ODA provided to help build trade capacity, percentage\n",
      "ODA that is untied, million US$\n",
      "ODA that is untied, percentage\n",
      "Developed country imports from the LDCs, admitted duty free, percentage\n",
      "Internet users per 100 inhabitants\n",
      "Debt relief committed under HIPC initiative, cumulative million US$ in end-2009 NPV terms\n",
      "ODA received in small islands developing States, million US$\n",
      "Agriculture support estimate for OECD countries as percentage of their GDP\n",
      "Fixed-telephone subscriptions\n",
      "ODA to basic social services as percentage of sector-allocable ODA\n",
      "Net ODA as percentage of OECD/DAC donors GNI\n",
      "Net ODA to LDCs as percentage of OECD/DAC donors GNI\n",
      "ODA received in landlocked developing countries, million US$\n",
      "Net ODA, million US$\n",
      "Debt service as percentage of exports of goods and services and net income\n",
      "Developed country imports from developing countries, admitted duty free, percentage\n",
      "ODA received in small islands developing States as percentage of their GNI\n",
      "ODA received in landlocked developing countries as percentage of their GNI\n",
      "Net ODA to LDCs, million US$\n",
      "ODA to basic social services, million US$\n"
     ]
    }
   ],
   "source": [
    "# PRINT FULL SERIES NAMES FOR GOAL 8\n",
    "\n",
    "query = \"SELECT DISTINCT targetid, seriesrowid, seriesname FROM undata WHERE goalid = 8;\"\n",
    "series8 = pd.read_sql(query, engine)\n",
    "for name in series8['seriesname']:\n",
    "    print name"
   ]
  },
  {
   "cell_type": "code",
   "execution_count": 13,
   "metadata": {
    "collapsed": false
   },
   "outputs": [
    {
     "data": {
      "text/html": [
       "<div style=\"max-height:1000px;max-width:1500px;overflow:auto;\">\n",
       "<table border=\"1\" class=\"dataframe\">\n",
       "  <thead>\n",
       "    <tr style=\"text-align: right;\">\n",
       "      <th></th>\n",
       "      <th>targetid</th>\n",
       "      <th>seriesrowid</th>\n",
       "      <th>seriesname</th>\n",
       "    </tr>\n",
       "  </thead>\n",
       "  <tbody>\n",
       "    <tr>\n",
       "      <th>0</th>\n",
       "      <td>15</td>\n",
       "      <td>787</td>\n",
       "      <td>Debt relief delivered in full under MDRI initi...</td>\n",
       "    </tr>\n",
       "    <tr>\n",
       "      <th>1</th>\n",
       "      <td>18</td>\n",
       "      <td>780</td>\n",
       "      <td>Mobile-cellular subscriptions</td>\n",
       "    </tr>\n",
       "    <tr>\n",
       "      <th>2</th>\n",
       "      <td>18</td>\n",
       "      <td>755</td>\n",
       "      <td>Fixed-telephone subscriptions per 100 inhabitants</td>\n",
       "    </tr>\n",
       "    <tr>\n",
       "      <th>3</th>\n",
       "      <td>14</td>\n",
       "      <td>601</td>\n",
       "      <td>Agriculture support estimate for OECD countrie...</td>\n",
       "    </tr>\n",
       "    <tr>\n",
       "      <th>4</th>\n",
       "      <td>18</td>\n",
       "      <td>756</td>\n",
       "      <td>Mobile-cellular subscriptions per 100 inhabitants</td>\n",
       "    </tr>\n",
       "    <tr>\n",
       "      <th>5</th>\n",
       "      <td>14</td>\n",
       "      <td>717</td>\n",
       "      <td>ODA provided to help build trade capacity, per...</td>\n",
       "    </tr>\n",
       "    <tr>\n",
       "      <th>6</th>\n",
       "      <td>13</td>\n",
       "      <td>598</td>\n",
       "      <td>ODA that is untied, million US$</td>\n",
       "    </tr>\n",
       "    <tr>\n",
       "      <th>7</th>\n",
       "      <td>13</td>\n",
       "      <td>599</td>\n",
       "      <td>ODA that is untied, percentage</td>\n",
       "    </tr>\n",
       "    <tr>\n",
       "      <th>8</th>\n",
       "      <td>14</td>\n",
       "      <td>714</td>\n",
       "      <td>Developed country imports from the LDCs, admit...</td>\n",
       "    </tr>\n",
       "    <tr>\n",
       "      <th>9</th>\n",
       "      <td>18</td>\n",
       "      <td>605</td>\n",
       "      <td>Internet users per 100 inhabitants</td>\n",
       "    </tr>\n",
       "    <tr>\n",
       "      <th>10</th>\n",
       "      <td>15</td>\n",
       "      <td>688</td>\n",
       "      <td>Debt relief committed under HIPC initiative, c...</td>\n",
       "    </tr>\n",
       "    <tr>\n",
       "      <th>11</th>\n",
       "      <td>14</td>\n",
       "      <td>639</td>\n",
       "      <td>ODA received in small islands developing State...</td>\n",
       "    </tr>\n",
       "    <tr>\n",
       "      <th>12</th>\n",
       "      <td>14</td>\n",
       "      <td>654</td>\n",
       "      <td>Agriculture support estimate for OECD countrie...</td>\n",
       "    </tr>\n",
       "    <tr>\n",
       "      <th>13</th>\n",
       "      <td>18</td>\n",
       "      <td>779</td>\n",
       "      <td>Fixed-telephone subscriptions</td>\n",
       "    </tr>\n",
       "    <tr>\n",
       "      <th>14</th>\n",
       "      <td>13</td>\n",
       "      <td>593</td>\n",
       "      <td>ODA to basic social services as percentage of ...</td>\n",
       "    </tr>\n",
       "    <tr>\n",
       "      <th>15</th>\n",
       "      <td>12</td>\n",
       "      <td>568</td>\n",
       "      <td>Net ODA as percentage of OECD/DAC donors GNI</td>\n",
       "    </tr>\n",
       "    <tr>\n",
       "      <th>16</th>\n",
       "      <td>12</td>\n",
       "      <td>650</td>\n",
       "      <td>Net ODA to LDCs as percentage of OECD/DAC dono...</td>\n",
       "    </tr>\n",
       "    <tr>\n",
       "      <th>17</th>\n",
       "      <td>14</td>\n",
       "      <td>632</td>\n",
       "      <td>ODA received in landlocked developing countrie...</td>\n",
       "    </tr>\n",
       "    <tr>\n",
       "      <th>18</th>\n",
       "      <td>12</td>\n",
       "      <td>569</td>\n",
       "      <td>Net ODA, million US$</td>\n",
       "    </tr>\n",
       "    <tr>\n",
       "      <th>19</th>\n",
       "      <td>15</td>\n",
       "      <td>655</td>\n",
       "      <td>Debt service as percentage of exports of goods...</td>\n",
       "    </tr>\n",
       "    <tr>\n",
       "      <th>20</th>\n",
       "      <td>14</td>\n",
       "      <td>713</td>\n",
       "      <td>Developed country imports from developing coun...</td>\n",
       "    </tr>\n",
       "    <tr>\n",
       "      <th>21</th>\n",
       "      <td>14</td>\n",
       "      <td>653</td>\n",
       "      <td>ODA received in small islands developing State...</td>\n",
       "    </tr>\n",
       "    <tr>\n",
       "      <th>22</th>\n",
       "      <td>14</td>\n",
       "      <td>652</td>\n",
       "      <td>ODA received in landlocked developing countrie...</td>\n",
       "    </tr>\n",
       "    <tr>\n",
       "      <th>23</th>\n",
       "      <td>12</td>\n",
       "      <td>651</td>\n",
       "      <td>Net ODA to LDCs, million US$</td>\n",
       "    </tr>\n",
       "    <tr>\n",
       "      <th>24</th>\n",
       "      <td>13</td>\n",
       "      <td>592</td>\n",
       "      <td>ODA to basic social services, million US$</td>\n",
       "    </tr>\n",
       "  </tbody>\n",
       "</table>\n",
       "</div>"
      ],
      "text/plain": [
       "    targetid  seriesrowid                                         seriesname\n",
       "0         15          787  Debt relief delivered in full under MDRI initi...\n",
       "1         18          780                      Mobile-cellular subscriptions\n",
       "2         18          755  Fixed-telephone subscriptions per 100 inhabitants\n",
       "3         14          601  Agriculture support estimate for OECD countrie...\n",
       "4         18          756  Mobile-cellular subscriptions per 100 inhabitants\n",
       "5         14          717  ODA provided to help build trade capacity, per...\n",
       "6         13          598                    ODA that is untied, million US$\n",
       "7         13          599                     ODA that is untied, percentage\n",
       "8         14          714  Developed country imports from the LDCs, admit...\n",
       "9         18          605                 Internet users per 100 inhabitants\n",
       "10        15          688  Debt relief committed under HIPC initiative, c...\n",
       "11        14          639  ODA received in small islands developing State...\n",
       "12        14          654  Agriculture support estimate for OECD countrie...\n",
       "13        18          779                      Fixed-telephone subscriptions\n",
       "14        13          593  ODA to basic social services as percentage of ...\n",
       "15        12          568       Net ODA as percentage of OECD/DAC donors GNI\n",
       "16        12          650  Net ODA to LDCs as percentage of OECD/DAC dono...\n",
       "17        14          632  ODA received in landlocked developing countrie...\n",
       "18        12          569                               Net ODA, million US$\n",
       "19        15          655  Debt service as percentage of exports of goods...\n",
       "20        14          713  Developed country imports from developing coun...\n",
       "21        14          653  ODA received in small islands developing State...\n",
       "22        14          652  ODA received in landlocked developing countrie...\n",
       "23        12          651                       Net ODA to LDCs, million US$\n",
       "24        13          592          ODA to basic social services, million US$"
      ]
     },
     "execution_count": 13,
     "metadata": {},
     "output_type": "execute_result"
    }
   ],
   "source": [
    "# PRINT TABLE\n",
    "\n",
    "series8"
   ]
  },
  {
   "cell_type": "markdown",
   "metadata": {},
   "source": [
    "### Selecting the data\n",
    "\n",
    "The series associated with target ids 1, 7, 12, 13, 14, 15, 19, and 20 seemed like they may be helpful in answering my questions. I queried the database again and saved these as a dataframe."
   ]
  },
  {
   "cell_type": "code",
   "execution_count": 14,
   "metadata": {
    "collapsed": false
   },
   "outputs": [
    {
     "data": {
      "text/plain": [
       "(56598, 28)"
      ]
     },
     "execution_count": 14,
     "metadata": {},
     "output_type": "execute_result"
    }
   ],
   "source": [
    "query = \"SELECT * FROM undata WHERE targetid IN (1, 7, 12, 13, 14, 15, 19, 20);\"\n",
    "undata = pd.read_sql(query, engine)\n",
    "undata.shape"
   ]
  },
  {
   "cell_type": "markdown",
   "metadata": {},
   "source": [
    "I wanted to use data for all countries, but the former Sudan was giving me errors when I tried to unstack and reshape the data. I took a look at what series data was available for the former Sudan."
   ]
  },
  {
   "cell_type": "code",
   "execution_count": 15,
   "metadata": {
    "collapsed": false
   },
   "outputs": [
    {
     "name": "stdout",
     "output_type": "stream",
     "text": [
      "46\n",
      "9\n",
      "set([u'Antiretroviral therapy coverage among people with advanced HIV infection, percentage', u'Percentage of HIV-infected pregnant women who received antiretroviral drugs to reduce the risk for mother-to-child transmission (lower bound)', u'Antiretroviral therapy coverage among people with advanced HIV infection, percentage (lower bound)', u'Percentage of HIV-infected pregnant women who received antiretroviral drugs to reduce the risk for mother-to-child transmission (upper bound)', u'Percentage of HIV-infected pregnant women who received antiretroviral drugs to reduce the risk for mother-to-child transmission (Mid point)', u'Developed country imports from developing countries, admitted duty free, percentage', u'Developed country imports from the LDCs, admitted duty free, percentage', u'Antenatal care coverage, at least one visit, percentage', u'Antiretroviral therapy coverage among people with advanced HIV infection, percentage (upper bound)'])\n"
     ]
    }
   ],
   "source": [
    "print len(undata[undata.isformer == 1])\n",
    "print len(set(undata[undata.isformer == 1]['seriesname']))\n",
    "print set(undata[undata.isformer == 1]['seriesname'])"
   ]
  },
  {
   "cell_type": "markdown",
   "metadata": {},
   "source": [
    "### Exclude former Sudan data\n",
    "\n",
    "No data was available for the main variable I planned to explore, the HIV incidence rate, so I excluded the former Sudan rows from my dataframe."
   ]
  },
  {
   "cell_type": "code",
   "execution_count": 16,
   "metadata": {
    "collapsed": false
   },
   "outputs": [],
   "source": [
    "undata = undata[undata.isformer == 0]\n",
    "undata = undata.drop(['isformer'], axis=1)"
   ]
  },
  {
   "cell_type": "markdown",
   "metadata": {},
   "source": [
    "### Simplify dataframe\n",
    "\n",
    "I looked at the included columns and simplified the dataframe to include only variables I intended to use."
   ]
  },
  {
   "cell_type": "code",
   "execution_count": 17,
   "metadata": {
    "collapsed": false,
    "scrolled": false
   },
   "outputs": [
    {
     "data": {
      "text/plain": [
       "[u'goalid',\n",
       " u'goalname',\n",
       " u'targetid',\n",
       " u'targetname',\n",
       " u'indicatorid',\n",
       " u'indicatorname',\n",
       " u'indicatororderclause',\n",
       " u'seriesrowid',\n",
       " u'seriesname',\n",
       " u'seriesorderclause',\n",
       " u'ismdg',\n",
       " u'lastupdated',\n",
       " u'countryid',\n",
       " u'countryname',\n",
       " u'iso3code',\n",
       " u'isdeveloped',\n",
       " u'mdgregions',\n",
       " u'ismdgcountry',\n",
       " u'isldc2014',\n",
       " u'islldc',\n",
       " u'gdppc2012',\n",
       " u'population2012',\n",
       " u'year',\n",
       " u'value',\n",
       " u'nature',\n",
       " u'footnoteid',\n",
       " u'footnotetext']"
      ]
     },
     "execution_count": 17,
     "metadata": {},
     "output_type": "execute_result"
    }
   ],
   "source": [
    "columns = [column for column in undata.columns]\n",
    "columns"
   ]
  },
  {
   "cell_type": "code",
   "execution_count": 18,
   "metadata": {
    "collapsed": true
   },
   "outputs": [],
   "source": [
    "unsimple = undata[['countryname', 'iso3code', 'year', 'isdeveloped', 'mdgregions', \n",
    "                   'isldc2014', 'islldc', 'ismdgcountry', 'seriesname', 'gdppc2012',\n",
    "                   'population2012', 'value']]"
   ]
  },
  {
   "cell_type": "code",
   "execution_count": 19,
   "metadata": {
    "collapsed": false
   },
   "outputs": [
    {
     "data": {
      "text/html": [
       "<div style=\"max-height:1000px;max-width:1500px;overflow:auto;\">\n",
       "<table border=\"1\" class=\"dataframe\">\n",
       "  <thead>\n",
       "    <tr style=\"text-align: right;\">\n",
       "      <th></th>\n",
       "      <th>year</th>\n",
       "      <th>isdeveloped</th>\n",
       "      <th>isldc2014</th>\n",
       "      <th>islldc</th>\n",
       "      <th>ismdgcountry</th>\n",
       "      <th>gdppc2012</th>\n",
       "      <th>population2012</th>\n",
       "      <th>value</th>\n",
       "    </tr>\n",
       "  </thead>\n",
       "  <tbody>\n",
       "    <tr>\n",
       "      <th>count</th>\n",
       "      <td>56552.000000</td>\n",
       "      <td>56483.000000</td>\n",
       "      <td>56552.000000</td>\n",
       "      <td>56552.000000</td>\n",
       "      <td>56552.000000</td>\n",
       "      <td>56080.000000</td>\n",
       "      <td>5.608000e+04</td>\n",
       "      <td>5.655200e+04</td>\n",
       "    </tr>\n",
       "    <tr>\n",
       "      <th>mean</th>\n",
       "      <td>2002.477790</td>\n",
       "      <td>0.201300</td>\n",
       "      <td>0.301740</td>\n",
       "      <td>0.013952</td>\n",
       "      <td>0.998780</td>\n",
       "      <td>10903.839376</td>\n",
       "      <td>3.912418e+07</td>\n",
       "      <td>-2.594671e+05</td>\n",
       "    </tr>\n",
       "    <tr>\n",
       "      <th>std</th>\n",
       "      <td>6.772721</td>\n",
       "      <td>0.400975</td>\n",
       "      <td>0.459017</td>\n",
       "      <td>0.117292</td>\n",
       "      <td>0.034909</td>\n",
       "      <td>17970.787321</td>\n",
       "      <td>1.300971e+08</td>\n",
       "      <td>2.388371e+07</td>\n",
       "    </tr>\n",
       "    <tr>\n",
       "      <th>min</th>\n",
       "      <td>1984.000000</td>\n",
       "      <td>0.000000</td>\n",
       "      <td>0.000000</td>\n",
       "      <td>0.000000</td>\n",
       "      <td>0.000000</td>\n",
       "      <td>128.100000</td>\n",
       "      <td>5.046000e+03</td>\n",
       "      <td>-2.146826e+09</td>\n",
       "    </tr>\n",
       "    <tr>\n",
       "      <th>25%</th>\n",
       "      <td>1997.000000</td>\n",
       "      <td>0.000000</td>\n",
       "      <td>0.000000</td>\n",
       "      <td>0.000000</td>\n",
       "      <td>1.000000</td>\n",
       "      <td>1125.900000</td>\n",
       "      <td>3.514381e+06</td>\n",
       "      <td>9.400000e-01</td>\n",
       "    </tr>\n",
       "    <tr>\n",
       "      <th>50%</th>\n",
       "      <td>2003.000000</td>\n",
       "      <td>0.000000</td>\n",
       "      <td>0.000000</td>\n",
       "      <td>0.000000</td>\n",
       "      <td>1.000000</td>\n",
       "      <td>3673.000000</td>\n",
       "      <td>1.049628e+07</td>\n",
       "      <td>1.450000e+01</td>\n",
       "    </tr>\n",
       "    <tr>\n",
       "      <th>75%</th>\n",
       "      <td>2008.000000</td>\n",
       "      <td>0.000000</td>\n",
       "      <td>1.000000</td>\n",
       "      <td>0.000000</td>\n",
       "      <td>1.000000</td>\n",
       "      <td>10421.600000</td>\n",
       "      <td>2.995478e+07</td>\n",
       "      <td>9.170000e+01</td>\n",
       "    </tr>\n",
       "    <tr>\n",
       "      <th>max</th>\n",
       "      <td>2015.000000</td>\n",
       "      <td>1.000000</td>\n",
       "      <td>1.000000</td>\n",
       "      <td>1.000000</td>\n",
       "      <td>1.000000</td>\n",
       "      <td>158976.800000</td>\n",
       "      <td>1.377065e+09</td>\n",
       "      <td>2.400000e+06</td>\n",
       "    </tr>\n",
       "  </tbody>\n",
       "</table>\n",
       "</div>"
      ],
      "text/plain": [
       "               year   isdeveloped     isldc2014        islldc  ismdgcountry  \\\n",
       "count  56552.000000  56483.000000  56552.000000  56552.000000  56552.000000   \n",
       "mean    2002.477790      0.201300      0.301740      0.013952      0.998780   \n",
       "std        6.772721      0.400975      0.459017      0.117292      0.034909   \n",
       "min     1984.000000      0.000000      0.000000      0.000000      0.000000   \n",
       "25%     1997.000000      0.000000      0.000000      0.000000      1.000000   \n",
       "50%     2003.000000      0.000000      0.000000      0.000000      1.000000   \n",
       "75%     2008.000000      0.000000      1.000000      0.000000      1.000000   \n",
       "max     2015.000000      1.000000      1.000000      1.000000      1.000000   \n",
       "\n",
       "           gdppc2012  population2012         value  \n",
       "count   56080.000000    5.608000e+04  5.655200e+04  \n",
       "mean    10903.839376    3.912418e+07 -2.594671e+05  \n",
       "std     17970.787321    1.300971e+08  2.388371e+07  \n",
       "min       128.100000    5.046000e+03 -2.146826e+09  \n",
       "25%      1125.900000    3.514381e+06  9.400000e-01  \n",
       "50%      3673.000000    1.049628e+07  1.450000e+01  \n",
       "75%     10421.600000    2.995478e+07  9.170000e+01  \n",
       "max    158976.800000    1.377065e+09  2.400000e+06  "
      ]
     },
     "execution_count": 19,
     "metadata": {},
     "output_type": "execute_result"
    }
   ],
   "source": [
    "unsimple.describe()"
   ]
  },
  {
   "cell_type": "code",
   "execution_count": 20,
   "metadata": {
    "collapsed": false
   },
   "outputs": [
    {
     "data": {
      "text/plain": [
       "(56552, 12)"
      ]
     },
     "execution_count": 20,
     "metadata": {},
     "output_type": "execute_result"
    }
   ],
   "source": [
    "unsimple.shape"
   ]
  },
  {
   "cell_type": "markdown",
   "metadata": {},
   "source": [
    "### Unstack the dataframe\n",
    "\n",
    "The dataframe included a column called 'value' which contained the value available for the many different series. In order to explore and make predictions I unstacked the dataframe, turning the value column into multiple columns associated with the corresponding series name. \n",
    "\n",
    "I started by extracting the values for the series 'AIDS deaths' and then looped through a list of the other series, merging them with the reshaped dataframe."
   ]
  },
  {
   "cell_type": "code",
   "execution_count": 21,
   "metadata": {
    "collapsed": true
   },
   "outputs": [],
   "source": [
    "all_series = list(set(unsimple['seriesname']))\n",
    "row = 'AIDS deaths'\n",
    "all_series.remove(row)"
   ]
  },
  {
   "cell_type": "code",
   "execution_count": 22,
   "metadata": {
    "collapsed": false
   },
   "outputs": [
    {
     "data": {
      "text/plain": [
       "(2808, 12)"
      ]
     },
     "execution_count": 22,
     "metadata": {},
     "output_type": "execute_result"
    }
   ],
   "source": [
    "unreshape = deepcopy(unsimple[unsimple['seriesname'] == row])\n",
    "unreshape.rename(columns={'value': row}, inplace=True)\n",
    "unreshape.shape"
   ]
  },
  {
   "cell_type": "code",
   "execution_count": 23,
   "metadata": {
    "collapsed": false
   },
   "outputs": [
    {
     "data": {
      "text/plain": [
       "(5332, 73)"
      ]
     },
     "execution_count": 23,
     "metadata": {},
     "output_type": "execute_result"
    }
   ],
   "source": [
    "for series in all_series:\n",
    "    new_cols = deepcopy(unsimple[unsimple['seriesname'] == series])\n",
    "    new_cols.rename(columns={'value': series}, inplace=True)\n",
    "    new_cols = new_cols.drop(['seriesname'], axis=1)\n",
    "    keys = ['countryname', 'iso3code', 'year', 'isdeveloped', 'mdgregions', \n",
    "            'ismdgcountry', 'gdppc2012', 'population2012', 'isldc2014', 'islldc']\n",
    "    unreshape = pd.merge(unreshape, new_cols, how='outer', on=keys)\n",
    "    \n",
    "unreshape.shape"
   ]
  },
  {
   "cell_type": "markdown",
   "metadata": {},
   "source": [
    "### Add more series from World Bank MDG database\n",
    "\n",
    "I found more variables which I wanted to include in my analysis on the World Bank database.\n",
    "\n",
    "The years for this data were individual columns, so I needed to transform it into a shape similar to the original data in order to unstack and merge it with my reshaped dataframe."
   ]
  },
  {
   "cell_type": "code",
   "execution_count": 24,
   "metadata": {
    "collapsed": false,
    "scrolled": false
   },
   "outputs": [
    {
     "data": {
      "text/plain": [
       "['Net official development assistance received (current US$)',\n",
       " nan,\n",
       " 'Net ODA received per capita (current US$)',\n",
       " 'Contraceptive prevalence (% of women ages 15-49)',\n",
       " 'Net ODA received (% of GNI)',\n",
       " 'GNI per capita, Atlas method (current US$)',\n",
       " 'Population, total',\n",
       " 'Condom use with non regular partner, % adults(15-49), female',\n",
       " 'Prevalence of HIV, total (% of population ages 15-49)',\n",
       " 'Condom use, population ages 15-24, male (% of males ages 15-24)',\n",
       " 'Condom use, population ages 15-24, female (% of females ages 15-24)',\n",
       " 'Condom use with non regular partner, % adults(15-49), male',\n",
       " 'Net official development assistance and official aid received (current US$)']"
      ]
     },
     "execution_count": 24,
     "metadata": {},
     "output_type": "execute_result"
    }
   ],
   "source": [
    "undata_new = pd.read_csv('data/Data_Extract_From_Millennium_Development_Goals_Data.csv')\n",
    "list(set(undata_new['Series Name']))"
   ]
  },
  {
   "cell_type": "code",
   "execution_count": 25,
   "metadata": {
    "collapsed": false
   },
   "outputs": [
    {
     "data": {
      "text/html": [
       "<div style=\"max-height:1000px;max-width:1500px;overflow:auto;\">\n",
       "<table border=\"1\" class=\"dataframe\">\n",
       "  <thead>\n",
       "    <tr style=\"text-align: right;\">\n",
       "      <th></th>\n",
       "      <th>﻿Country Name</th>\n",
       "      <th>Country Code</th>\n",
       "      <th>Series Name</th>\n",
       "      <th>Series Code</th>\n",
       "      <th>1990 [YR1990]</th>\n",
       "      <th>1991 [YR1991]</th>\n",
       "      <th>1992 [YR1992]</th>\n",
       "      <th>1993 [YR1993]</th>\n",
       "      <th>1994 [YR1994]</th>\n",
       "      <th>1995 [YR1995]</th>\n",
       "      <th>...</th>\n",
       "      <th>2005 [YR2005]</th>\n",
       "      <th>2006 [YR2006]</th>\n",
       "      <th>2007 [YR2007]</th>\n",
       "      <th>2008 [YR2008]</th>\n",
       "      <th>2009 [YR2009]</th>\n",
       "      <th>2010 [YR2010]</th>\n",
       "      <th>2011 [YR2011]</th>\n",
       "      <th>2012 [YR2012]</th>\n",
       "      <th>2013 [YR2013]</th>\n",
       "      <th>2014 [YR2014]</th>\n",
       "    </tr>\n",
       "  </thead>\n",
       "  <tbody>\n",
       "    <tr>\n",
       "      <th>0</th>\n",
       "      <td>Afghanistan</td>\n",
       "      <td>AFG</td>\n",
       "      <td>Net ODA received (% of GNI)</td>\n",
       "      <td>DT.ODA.ODAT.GN.ZS</td>\n",
       "      <td>..</td>\n",
       "      <td>..</td>\n",
       "      <td>..</td>\n",
       "      <td>..</td>\n",
       "      <td>..</td>\n",
       "      <td>..</td>\n",
       "      <td>...</td>\n",
       "      <td>45.1403164746878</td>\n",
       "      <td>41.7083617468951</td>\n",
       "      <td>50.2826596611131</td>\n",
       "      <td>47.6440672911038</td>\n",
       "      <td>49.7207031717927</td>\n",
       "      <td>40.1686350307288</td>\n",
       "      <td>38.2210459953184</td>\n",
       "      <td>32.5907503002823</td>\n",
       "      <td>25.7479981923313</td>\n",
       "      <td>..</td>\n",
       "    </tr>\n",
       "    <tr>\n",
       "      <th>1</th>\n",
       "      <td>Afghanistan</td>\n",
       "      <td>AFG</td>\n",
       "      <td>Net ODA received per capita (current US$)</td>\n",
       "      <td>DT.ODA.ODAT.PC.ZS</td>\n",
       "      <td>10.375756327596</td>\n",
       "      <td>40.2416959726509</td>\n",
       "      <td>14.8350593358933</td>\n",
       "      <td>14.7476248449374</td>\n",
       "      <td>13.7348955275633</td>\n",
       "      <td>12.085131228558</td>\n",
       "      <td>...</td>\n",
       "      <td>114.140080862062</td>\n",
       "      <td>115.549038865867</td>\n",
       "      <td>188.419834300363</td>\n",
       "      <td>180.365288104404</td>\n",
       "      <td>225.038180953521</td>\n",
       "      <td>226.302646133442</td>\n",
       "      <td>236.548237651466</td>\n",
       "      <td>225.516668557727</td>\n",
       "      <td>172.362077442958</td>\n",
       "      <td>..</td>\n",
       "    </tr>\n",
       "    <tr>\n",
       "      <th>2</th>\n",
       "      <td>Afghanistan</td>\n",
       "      <td>AFG</td>\n",
       "      <td>Population, total</td>\n",
       "      <td>SP.POP.TOTL</td>\n",
       "      <td>11731193</td>\n",
       "      <td>12612043</td>\n",
       "      <td>13811876</td>\n",
       "      <td>15175325</td>\n",
       "      <td>16485018</td>\n",
       "      <td>17586073</td>\n",
       "      <td>...</td>\n",
       "      <td>24860855</td>\n",
       "      <td>25631282</td>\n",
       "      <td>26349243</td>\n",
       "      <td>27032197</td>\n",
       "      <td>27708187</td>\n",
       "      <td>28397812</td>\n",
       "      <td>29105480</td>\n",
       "      <td>29824536</td>\n",
       "      <td>30551674</td>\n",
       "      <td>..</td>\n",
       "    </tr>\n",
       "    <tr>\n",
       "      <th>3</th>\n",
       "      <td>Afghanistan</td>\n",
       "      <td>AFG</td>\n",
       "      <td>Prevalence of HIV, total (% of population ages...</td>\n",
       "      <td>SH.DYN.AIDS.ZS</td>\n",
       "      <td>0.1</td>\n",
       "      <td>0.1</td>\n",
       "      <td>0.1</td>\n",
       "      <td>0.1</td>\n",
       "      <td>0.1</td>\n",
       "      <td>0.1</td>\n",
       "      <td>...</td>\n",
       "      <td>0.1</td>\n",
       "      <td>0.1</td>\n",
       "      <td>0.1</td>\n",
       "      <td>0.1</td>\n",
       "      <td>0.1</td>\n",
       "      <td>0.1</td>\n",
       "      <td>0.1</td>\n",
       "      <td>0.1</td>\n",
       "      <td>0.1</td>\n",
       "      <td>..</td>\n",
       "    </tr>\n",
       "    <tr>\n",
       "      <th>4</th>\n",
       "      <td>Afghanistan</td>\n",
       "      <td>AFG</td>\n",
       "      <td>GNI per capita, Atlas method (current US$)</td>\n",
       "      <td>NY.GNP.PCAP.CD</td>\n",
       "      <td>..</td>\n",
       "      <td>..</td>\n",
       "      <td>..</td>\n",
       "      <td>..</td>\n",
       "      <td>..</td>\n",
       "      <td>..</td>\n",
       "      <td>...</td>\n",
       "      <td>250</td>\n",
       "      <td>270</td>\n",
       "      <td>330</td>\n",
       "      <td>370</td>\n",
       "      <td>460</td>\n",
       "      <td>510</td>\n",
       "      <td>570</td>\n",
       "      <td>690</td>\n",
       "      <td>690</td>\n",
       "      <td>680</td>\n",
       "    </tr>\n",
       "  </tbody>\n",
       "</table>\n",
       "<p>5 rows × 29 columns</p>\n",
       "</div>"
      ],
      "text/plain": [
       "  ﻿Country Name Country Code  \\\n",
       "0   Afghanistan          AFG   \n",
       "1   Afghanistan          AFG   \n",
       "2   Afghanistan          AFG   \n",
       "3   Afghanistan          AFG   \n",
       "4   Afghanistan          AFG   \n",
       "\n",
       "                                         Series Name        Series Code  \\\n",
       "0                        Net ODA received (% of GNI)  DT.ODA.ODAT.GN.ZS   \n",
       "1          Net ODA received per capita (current US$)  DT.ODA.ODAT.PC.ZS   \n",
       "2                                  Population, total        SP.POP.TOTL   \n",
       "3  Prevalence of HIV, total (% of population ages...     SH.DYN.AIDS.ZS   \n",
       "4         GNI per capita, Atlas method (current US$)     NY.GNP.PCAP.CD   \n",
       "\n",
       "     1990 [YR1990]     1991 [YR1991]     1992 [YR1992]     1993 [YR1993]  \\\n",
       "0               ..                ..                ..                ..   \n",
       "1  10.375756327596  40.2416959726509  14.8350593358933  14.7476248449374   \n",
       "2         11731193          12612043          13811876          15175325   \n",
       "3              0.1               0.1               0.1               0.1   \n",
       "4               ..                ..                ..                ..   \n",
       "\n",
       "      1994 [YR1994]    1995 [YR1995]      ...          2005 [YR2005]  \\\n",
       "0                ..               ..      ...       45.1403164746878   \n",
       "1  13.7348955275633  12.085131228558      ...       114.140080862062   \n",
       "2          16485018         17586073      ...               24860855   \n",
       "3               0.1              0.1      ...                    0.1   \n",
       "4                ..               ..      ...                    250   \n",
       "\n",
       "      2006 [YR2006]     2007 [YR2007]     2008 [YR2008]     2009 [YR2009]  \\\n",
       "0  41.7083617468951  50.2826596611131  47.6440672911038  49.7207031717927   \n",
       "1  115.549038865867  188.419834300363  180.365288104404  225.038180953521   \n",
       "2          25631282          26349243          27032197          27708187   \n",
       "3               0.1               0.1               0.1               0.1   \n",
       "4               270               330               370               460   \n",
       "\n",
       "      2010 [YR2010]     2011 [YR2011]     2012 [YR2012]     2013 [YR2013]  \\\n",
       "0  40.1686350307288  38.2210459953184  32.5907503002823  25.7479981923313   \n",
       "1  226.302646133442  236.548237651466  225.516668557727  172.362077442958   \n",
       "2          28397812          29105480          29824536          30551674   \n",
       "3               0.1               0.1               0.1               0.1   \n",
       "4               510               570               690               690   \n",
       "\n",
       "  2014 [YR2014]  \n",
       "0            ..  \n",
       "1            ..  \n",
       "2            ..  \n",
       "3            ..  \n",
       "4           680  \n",
       "\n",
       "[5 rows x 29 columns]"
      ]
     },
     "execution_count": 25,
     "metadata": {},
     "output_type": "execute_result"
    }
   ],
   "source": [
    "undata_new.head()"
   ]
  },
  {
   "cell_type": "code",
   "execution_count": 26,
   "metadata": {
    "collapsed": true
   },
   "outputs": [],
   "source": [
    "# drop series code\n",
    "undata_new = undata_new.drop(['Series Code'], axis = 1)"
   ]
  },
  {
   "cell_type": "code",
   "execution_count": 27,
   "metadata": {
    "collapsed": false
   },
   "outputs": [],
   "source": [
    "# rename columns\n",
    "years = range(1990, 2015)\n",
    "undata_new.columns = ['countryname', 'iso3code', 'seriesname'] + years"
   ]
  },
  {
   "cell_type": "code",
   "execution_count": 28,
   "metadata": {
    "collapsed": false
   },
   "outputs": [
    {
     "data": {
      "text/html": [
       "<div style=\"max-height:1000px;max-width:1500px;overflow:auto;\">\n",
       "<table border=\"1\" class=\"dataframe\">\n",
       "  <thead>\n",
       "    <tr style=\"text-align: right;\">\n",
       "      <th></th>\n",
       "      <th>countryname</th>\n",
       "      <th>iso3code</th>\n",
       "      <th>seriesname</th>\n",
       "      <th>1990</th>\n",
       "      <th>1991</th>\n",
       "      <th>1992</th>\n",
       "      <th>1993</th>\n",
       "      <th>1994</th>\n",
       "      <th>1995</th>\n",
       "      <th>1996</th>\n",
       "      <th>...</th>\n",
       "      <th>2005</th>\n",
       "      <th>2006</th>\n",
       "      <th>2007</th>\n",
       "      <th>2008</th>\n",
       "      <th>2009</th>\n",
       "      <th>2010</th>\n",
       "      <th>2011</th>\n",
       "      <th>2012</th>\n",
       "      <th>2013</th>\n",
       "      <th>2014</th>\n",
       "    </tr>\n",
       "  </thead>\n",
       "  <tbody>\n",
       "    <tr>\n",
       "      <th>0</th>\n",
       "      <td>Afghanistan</td>\n",
       "      <td>AFG</td>\n",
       "      <td>Net ODA received (% of GNI)</td>\n",
       "      <td>..</td>\n",
       "      <td>..</td>\n",
       "      <td>..</td>\n",
       "      <td>..</td>\n",
       "      <td>..</td>\n",
       "      <td>..</td>\n",
       "      <td>..</td>\n",
       "      <td>...</td>\n",
       "      <td>45.1403164746878</td>\n",
       "      <td>41.7083617468951</td>\n",
       "      <td>50.2826596611131</td>\n",
       "      <td>47.6440672911038</td>\n",
       "      <td>49.7207031717927</td>\n",
       "      <td>40.1686350307288</td>\n",
       "      <td>38.2210459953184</td>\n",
       "      <td>32.5907503002823</td>\n",
       "      <td>25.7479981923313</td>\n",
       "      <td>..</td>\n",
       "    </tr>\n",
       "    <tr>\n",
       "      <th>1</th>\n",
       "      <td>Afghanistan</td>\n",
       "      <td>AFG</td>\n",
       "      <td>Net ODA received per capita (current US$)</td>\n",
       "      <td>10.375756327596</td>\n",
       "      <td>40.2416959726509</td>\n",
       "      <td>14.8350593358933</td>\n",
       "      <td>14.7476248449374</td>\n",
       "      <td>13.7348955275633</td>\n",
       "      <td>12.085131228558</td>\n",
       "      <td>9.21135878972857</td>\n",
       "      <td>...</td>\n",
       "      <td>114.140080862062</td>\n",
       "      <td>115.549038865867</td>\n",
       "      <td>188.419834300363</td>\n",
       "      <td>180.365288104404</td>\n",
       "      <td>225.038180953521</td>\n",
       "      <td>226.302646133442</td>\n",
       "      <td>236.548237651466</td>\n",
       "      <td>225.516668557727</td>\n",
       "      <td>172.362077442958</td>\n",
       "      <td>..</td>\n",
       "    </tr>\n",
       "    <tr>\n",
       "      <th>2</th>\n",
       "      <td>Afghanistan</td>\n",
       "      <td>AFG</td>\n",
       "      <td>Population, total</td>\n",
       "      <td>11731193</td>\n",
       "      <td>12612043</td>\n",
       "      <td>13811876</td>\n",
       "      <td>15175325</td>\n",
       "      <td>16485018</td>\n",
       "      <td>17586073</td>\n",
       "      <td>18415307</td>\n",
       "      <td>...</td>\n",
       "      <td>24860855</td>\n",
       "      <td>25631282</td>\n",
       "      <td>26349243</td>\n",
       "      <td>27032197</td>\n",
       "      <td>27708187</td>\n",
       "      <td>28397812</td>\n",
       "      <td>29105480</td>\n",
       "      <td>29824536</td>\n",
       "      <td>30551674</td>\n",
       "      <td>..</td>\n",
       "    </tr>\n",
       "    <tr>\n",
       "      <th>3</th>\n",
       "      <td>Afghanistan</td>\n",
       "      <td>AFG</td>\n",
       "      <td>Prevalence of HIV, total (% of population ages...</td>\n",
       "      <td>0.1</td>\n",
       "      <td>0.1</td>\n",
       "      <td>0.1</td>\n",
       "      <td>0.1</td>\n",
       "      <td>0.1</td>\n",
       "      <td>0.1</td>\n",
       "      <td>0.1</td>\n",
       "      <td>...</td>\n",
       "      <td>0.1</td>\n",
       "      <td>0.1</td>\n",
       "      <td>0.1</td>\n",
       "      <td>0.1</td>\n",
       "      <td>0.1</td>\n",
       "      <td>0.1</td>\n",
       "      <td>0.1</td>\n",
       "      <td>0.1</td>\n",
       "      <td>0.1</td>\n",
       "      <td>..</td>\n",
       "    </tr>\n",
       "    <tr>\n",
       "      <th>4</th>\n",
       "      <td>Afghanistan</td>\n",
       "      <td>AFG</td>\n",
       "      <td>GNI per capita, Atlas method (current US$)</td>\n",
       "      <td>..</td>\n",
       "      <td>..</td>\n",
       "      <td>..</td>\n",
       "      <td>..</td>\n",
       "      <td>..</td>\n",
       "      <td>..</td>\n",
       "      <td>..</td>\n",
       "      <td>...</td>\n",
       "      <td>250</td>\n",
       "      <td>270</td>\n",
       "      <td>330</td>\n",
       "      <td>370</td>\n",
       "      <td>460</td>\n",
       "      <td>510</td>\n",
       "      <td>570</td>\n",
       "      <td>690</td>\n",
       "      <td>690</td>\n",
       "      <td>680</td>\n",
       "    </tr>\n",
       "  </tbody>\n",
       "</table>\n",
       "<p>5 rows × 28 columns</p>\n",
       "</div>"
      ],
      "text/plain": [
       "   countryname iso3code                                         seriesname  \\\n",
       "0  Afghanistan      AFG                        Net ODA received (% of GNI)   \n",
       "1  Afghanistan      AFG          Net ODA received per capita (current US$)   \n",
       "2  Afghanistan      AFG                                  Population, total   \n",
       "3  Afghanistan      AFG  Prevalence of HIV, total (% of population ages...   \n",
       "4  Afghanistan      AFG         GNI per capita, Atlas method (current US$)   \n",
       "\n",
       "              1990              1991              1992              1993  \\\n",
       "0               ..                ..                ..                ..   \n",
       "1  10.375756327596  40.2416959726509  14.8350593358933  14.7476248449374   \n",
       "2         11731193          12612043          13811876          15175325   \n",
       "3              0.1               0.1               0.1               0.1   \n",
       "4               ..                ..                ..                ..   \n",
       "\n",
       "               1994             1995              1996 ...               2005  \\\n",
       "0                ..               ..                .. ...   45.1403164746878   \n",
       "1  13.7348955275633  12.085131228558  9.21135878972857 ...   114.140080862062   \n",
       "2          16485018         17586073          18415307 ...           24860855   \n",
       "3               0.1              0.1               0.1 ...                0.1   \n",
       "4                ..               ..                .. ...                250   \n",
       "\n",
       "               2006              2007              2008              2009  \\\n",
       "0  41.7083617468951  50.2826596611131  47.6440672911038  49.7207031717927   \n",
       "1  115.549038865867  188.419834300363  180.365288104404  225.038180953521   \n",
       "2          25631282          26349243          27032197          27708187   \n",
       "3               0.1               0.1               0.1               0.1   \n",
       "4               270               330               370               460   \n",
       "\n",
       "               2010              2011              2012              2013 2014  \n",
       "0  40.1686350307288  38.2210459953184  32.5907503002823  25.7479981923313   ..  \n",
       "1  226.302646133442  236.548237651466  225.516668557727  172.362077442958   ..  \n",
       "2          28397812          29105480          29824536          30551674   ..  \n",
       "3               0.1               0.1               0.1               0.1   ..  \n",
       "4               510               570               690               690  680  \n",
       "\n",
       "[5 rows x 28 columns]"
      ]
     },
     "execution_count": 28,
     "metadata": {},
     "output_type": "execute_result"
    }
   ],
   "source": [
    "undata_new.head()"
   ]
  },
  {
   "cell_type": "code",
   "execution_count": 29,
   "metadata": {
    "collapsed": false
   },
   "outputs": [],
   "source": [
    "# set a multi-level index and stack the data\n",
    "undata_new = undata_new.set_index(keys=['countryname', 'iso3code', 'seriesname'])\n",
    "undata_new = pd.DataFrame(undata_new.stack(level=-1))"
   ]
  },
  {
   "cell_type": "code",
   "execution_count": 30,
   "metadata": {
    "collapsed": false
   },
   "outputs": [],
   "source": [
    "# rename value column\n",
    "undata_new.columns = ['value']"
   ]
  },
  {
   "cell_type": "code",
   "execution_count": 31,
   "metadata": {
    "collapsed": false,
    "scrolled": true
   },
   "outputs": [
    {
     "data": {
      "text/html": [
       "<div style=\"max-height:1000px;max-width:1500px;overflow:auto;\">\n",
       "<table border=\"1\" class=\"dataframe\">\n",
       "  <thead>\n",
       "    <tr style=\"text-align: right;\">\n",
       "      <th></th>\n",
       "      <th></th>\n",
       "      <th></th>\n",
       "      <th></th>\n",
       "      <th>value</th>\n",
       "    </tr>\n",
       "    <tr>\n",
       "      <th>countryname</th>\n",
       "      <th>iso3code</th>\n",
       "      <th>seriesname</th>\n",
       "      <th></th>\n",
       "      <th></th>\n",
       "    </tr>\n",
       "  </thead>\n",
       "  <tbody>\n",
       "    <tr>\n",
       "      <th rowspan=\"5\" valign=\"top\">Afghanistan</th>\n",
       "      <th rowspan=\"5\" valign=\"top\">AFG</th>\n",
       "      <th rowspan=\"5\" valign=\"top\">Net ODA received (% of GNI)</th>\n",
       "      <th>1990</th>\n",
       "      <td>..</td>\n",
       "    </tr>\n",
       "    <tr>\n",
       "      <th>1991</th>\n",
       "      <td>..</td>\n",
       "    </tr>\n",
       "    <tr>\n",
       "      <th>1992</th>\n",
       "      <td>..</td>\n",
       "    </tr>\n",
       "    <tr>\n",
       "      <th>1993</th>\n",
       "      <td>..</td>\n",
       "    </tr>\n",
       "    <tr>\n",
       "      <th>1994</th>\n",
       "      <td>..</td>\n",
       "    </tr>\n",
       "  </tbody>\n",
       "</table>\n",
       "</div>"
      ],
      "text/plain": [
       "                                                      value\n",
       "countryname iso3code seriesname                            \n",
       "Afghanistan AFG      Net ODA received (% of GNI) 1990    ..\n",
       "                                                 1991    ..\n",
       "                                                 1992    ..\n",
       "                                                 1993    ..\n",
       "                                                 1994    .."
      ]
     },
     "execution_count": 31,
     "metadata": {},
     "output_type": "execute_result"
    }
   ],
   "source": [
    "undata_new.head()"
   ]
  },
  {
   "cell_type": "code",
   "execution_count": 32,
   "metadata": {
    "collapsed": false
   },
   "outputs": [
    {
     "data": {
      "text/html": [
       "<div style=\"max-height:1000px;max-width:1500px;overflow:auto;\">\n",
       "<table border=\"1\" class=\"dataframe\">\n",
       "  <thead>\n",
       "    <tr style=\"text-align: right;\">\n",
       "      <th></th>\n",
       "      <th>countryname</th>\n",
       "      <th>iso3code</th>\n",
       "      <th>seriesname</th>\n",
       "      <th>year</th>\n",
       "      <th>value</th>\n",
       "    </tr>\n",
       "  </thead>\n",
       "  <tbody>\n",
       "    <tr>\n",
       "      <th>0</th>\n",
       "      <td>Afghanistan</td>\n",
       "      <td>AFG</td>\n",
       "      <td>Net ODA received (% of GNI)</td>\n",
       "      <td>1990</td>\n",
       "      <td>..</td>\n",
       "    </tr>\n",
       "    <tr>\n",
       "      <th>1</th>\n",
       "      <td>Afghanistan</td>\n",
       "      <td>AFG</td>\n",
       "      <td>Net ODA received (% of GNI)</td>\n",
       "      <td>1991</td>\n",
       "      <td>..</td>\n",
       "    </tr>\n",
       "    <tr>\n",
       "      <th>2</th>\n",
       "      <td>Afghanistan</td>\n",
       "      <td>AFG</td>\n",
       "      <td>Net ODA received (% of GNI)</td>\n",
       "      <td>1992</td>\n",
       "      <td>..</td>\n",
       "    </tr>\n",
       "    <tr>\n",
       "      <th>3</th>\n",
       "      <td>Afghanistan</td>\n",
       "      <td>AFG</td>\n",
       "      <td>Net ODA received (% of GNI)</td>\n",
       "      <td>1993</td>\n",
       "      <td>..</td>\n",
       "    </tr>\n",
       "    <tr>\n",
       "      <th>4</th>\n",
       "      <td>Afghanistan</td>\n",
       "      <td>AFG</td>\n",
       "      <td>Net ODA received (% of GNI)</td>\n",
       "      <td>1994</td>\n",
       "      <td>..</td>\n",
       "    </tr>\n",
       "  </tbody>\n",
       "</table>\n",
       "</div>"
      ],
      "text/plain": [
       "   countryname iso3code                   seriesname  year value\n",
       "0  Afghanistan      AFG  Net ODA received (% of GNI)  1990    ..\n",
       "1  Afghanistan      AFG  Net ODA received (% of GNI)  1991    ..\n",
       "2  Afghanistan      AFG  Net ODA received (% of GNI)  1992    ..\n",
       "3  Afghanistan      AFG  Net ODA received (% of GNI)  1993    ..\n",
       "4  Afghanistan      AFG  Net ODA received (% of GNI)  1994    .."
      ]
     },
     "execution_count": 32,
     "metadata": {},
     "output_type": "execute_result"
    }
   ],
   "source": [
    "# reset the index to turn these variables back into columns\n",
    "undata_new = undata_new.reset_index()\n",
    "\n",
    "# rename columns\n",
    "undata_new.columns = ['countryname', 'iso3code', 'seriesname', 'year', 'value']\n",
    "undata_new.head()"
   ]
  },
  {
   "cell_type": "markdown",
   "metadata": {},
   "source": [
    "### Add columns to new dataframe\n",
    "\n",
    "In order to properly merge the data provided by the UN with the data downloaded from the World Bank, the two dataframes need to have the same key columns. In order to add these columns to the new dataframe, I created a dictionary using the ISO code as a key and storing the values for the columns to add."
   ]
  },
  {
   "cell_type": "code",
   "execution_count": 33,
   "metadata": {
    "collapsed": false
   },
   "outputs": [],
   "source": [
    "# columns to add\n",
    "cols = ['countryname', 'isdeveloped', 'mdgregions', 'ismdgcountry', 'gdppc2012', \n",
    "        'population2012', 'isldc2014', 'islldc']\n",
    "\n",
    "add_cols = {}\n",
    "\n",
    "for code in set(unreshape['iso3code']):\n",
    "    country_cols = {}\n",
    "    for col in cols:\n",
    "        try:\n",
    "            temp = list(unreshape[unreshape['iso3code'] == code][col])[0]\n",
    "            country_cols[col] = temp\n",
    "        except IndexError:\n",
    "            country_cols[col] = np.NaN\n",
    "    add_cols[code] = country_cols"
   ]
  },
  {
   "cell_type": "code",
   "execution_count": 34,
   "metadata": {
    "collapsed": false,
    "scrolled": true
   },
   "outputs": [
    {
     "data": {
      "text/plain": [
       "{'countryname': u'Afghanistan',\n",
       " 'gdppc2012': 682.79999999999995,\n",
       " 'isdeveloped': 0.0,\n",
       " 'isldc2014': 1.0,\n",
       " 'islldc': 1.0,\n",
       " 'ismdgcountry': 1.0,\n",
       " 'mdgregions': u'Southern Asia',\n",
       " 'population2012': 29824536.0}"
      ]
     },
     "execution_count": 34,
     "metadata": {},
     "output_type": "execute_result"
    }
   ],
   "source": [
    "add_cols['AFG']"
   ]
  },
  {
   "cell_type": "markdown",
   "metadata": {},
   "source": [
    "### Rename and remove countries\n",
    "\n",
    "A few countries in the World Bank data had ISO codes which differed from the original UN dataset, possibly these are outdated codes. I replaces these with the codes used in the UN dataset.\n",
    "\n",
    "A number of countries from the new World Bank data were not present in the original UN dataset. I removed these to avoid errors."
   ]
  },
  {
   "cell_type": "code",
   "execution_count": 36,
   "metadata": {
    "collapsed": true
   },
   "outputs": [],
   "source": [
    "undata_new['iso3code'] = undata_new['iso3code'].replace('ZAR', 'COD')\n",
    "undata_new['iso3code'] = undata_new['iso3code'].replace('TMP', 'TLS')"
   ]
  },
  {
   "cell_type": "code",
   "execution_count": 39,
   "metadata": {
    "collapsed": false,
    "scrolled": false
   },
   "outputs": [
    {
     "data": {
      "text/plain": [
       "['ADO', 'CHI', 'CUW', 'IMY', 'KSV', 'MAF', 'MCO', 'ROM', 'SXM', 'WBG']"
      ]
     },
     "execution_count": 39,
     "metadata": {},
     "output_type": "execute_result"
    }
   ],
   "source": [
    "missing_data = list(set(undata_new['iso3code']).difference(set(unreshape['iso3code'])))\n",
    "sorted(missing_data)"
   ]
  },
  {
   "cell_type": "code",
   "execution_count": 40,
   "metadata": {
    "collapsed": false
   },
   "outputs": [
    {
     "data": {
      "text/plain": [
       "(64200, 5)"
      ]
     },
     "execution_count": 40,
     "metadata": {},
     "output_type": "execute_result"
    }
   ],
   "source": [
    "undata_new.shape"
   ]
  },
  {
   "cell_type": "code",
   "execution_count": 41,
   "metadata": {
    "collapsed": true
   },
   "outputs": [],
   "source": [
    "for country in missing_data:\n",
    "    undata_new = undata_new[undata_new['iso3code'] != country]"
   ]
  },
  {
   "cell_type": "code",
   "execution_count": 42,
   "metadata": {
    "collapsed": false
   },
   "outputs": [
    {
     "data": {
      "text/plain": [
       "(61200, 5)"
      ]
     },
     "execution_count": 42,
     "metadata": {},
     "output_type": "execute_result"
    }
   ],
   "source": [
    "undata_new.shape"
   ]
  },
  {
   "cell_type": "markdown",
   "metadata": {},
   "source": [
    "These loops add the columns 'countryname', 'isdeveloped', 'mdgregions', 'ismdgcountry', 'gdppc2012', 'population2012', 'isldc2014', and 'islldc' to the World Bank dataframe so that it can be properly merged with the UN dataframe."
   ]
  },
  {
   "cell_type": "code",
   "execution_count": 43,
   "metadata": {
    "collapsed": false
   },
   "outputs": [],
   "source": [
    "for col in cols:\n",
    "    new_col = []\n",
    "    for code in undata_new['iso3code']:\n",
    "        new_col.append(add_cols[code][col])\n",
    "    undata_new[col] = new_col\n",
    "    \n",
    "for col in cols:\n",
    "    new_col = []\n",
    "    for code in unreshape['iso3code']:\n",
    "        new_col.append(add_cols[code][col])\n",
    "    unreshape[col] = new_col"
   ]
  },
  {
   "cell_type": "code",
   "execution_count": 44,
   "metadata": {
    "collapsed": false,
    "scrolled": false
   },
   "outputs": [
    {
     "data": {
      "text/plain": [
       "(61200, 12)"
      ]
     },
     "execution_count": 44,
     "metadata": {},
     "output_type": "execute_result"
    }
   ],
   "source": [
    "undata_new.shape"
   ]
  },
  {
   "cell_type": "code",
   "execution_count": 45,
   "metadata": {
    "collapsed": false
   },
   "outputs": [
    {
     "data": {
      "text/plain": [
       "countryname        object\n",
       "iso3code           object\n",
       "seriesname         object\n",
       "year                int64\n",
       "value              object\n",
       "isdeveloped       float64\n",
       "mdgregions         object\n",
       "ismdgcountry      float64\n",
       "gdppc2012         float64\n",
       "population2012    float64\n",
       "isldc2014         float64\n",
       "islldc            float64\n",
       "dtype: object"
      ]
     },
     "execution_count": 45,
     "metadata": {},
     "output_type": "execute_result"
    }
   ],
   "source": [
    "undata_new.dtypes"
   ]
  },
  {
   "cell_type": "markdown",
   "metadata": {},
   "source": [
    "### Merge World Bank data with reshaped dataframe"
   ]
  },
  {
   "cell_type": "code",
   "execution_count": 46,
   "metadata": {
    "collapsed": false
   },
   "outputs": [
    {
     "data": {
      "text/plain": [
       "(5534, 85)"
      ]
     },
     "execution_count": 46,
     "metadata": {},
     "output_type": "execute_result"
    }
   ],
   "source": [
    "for series in set(undata_new['seriesname']):\n",
    "    new_cols = deepcopy(undata_new[undata_new['seriesname'] == series])\n",
    "    new_cols.rename(columns={'value': series}, inplace=True)\n",
    "    new_cols = new_cols.drop(['seriesname'], axis=1)\n",
    "    keys = ['countryname', 'iso3code', 'year', 'isdeveloped', 'mdgregions', \n",
    "            'ismdgcountry', 'gdppc2012', 'population2012', 'isldc2014', 'islldc']\n",
    "    unreshape = pd.merge(unreshape, new_cols, how='outer', on=keys)\n",
    "    \n",
    "unreshape.shape"
   ]
  },
  {
   "cell_type": "code",
   "execution_count": 47,
   "metadata": {
    "collapsed": false
   },
   "outputs": [],
   "source": [
    "# replace '..' values with NaN\n",
    "unreshape = unreshape.replace('..', np.NaN)"
   ]
  },
  {
   "cell_type": "code",
   "execution_count": 48,
   "metadata": {
    "collapsed": false,
    "scrolled": false
   },
   "outputs": [
    {
     "name": "stdout",
     "output_type": "stream",
     "text": [
      "2808 AIDS deaths\n",
      "2808 AIDS deaths (lower bound)\n",
      "2808 AIDS deaths (upper bound)\n",
      "936 AIDS orphans (one or both parents)\n",
      "2838 Adolescent birth rate, per 1,000 women\n",
      "326 Agriculture support estimate for OECD countries as percentage of their GDP\n",
      "326 Agriculture support estimate for OECD countries, million US$\n",
      "378 Antenatal care coverage, at least four visits, percentage\n",
      "698 Antenatal care coverage, at least one visit, percentage\n",
      "310 Antiretroviral therapy coverage among people with advanced HIV infection, percentage\n",
      "316 Antiretroviral therapy coverage among people with advanced HIV infection, percentage (lower bound)\n",
      "322 Antiretroviral therapy coverage among people with advanced HIV infection, percentage (upper bound)\n",
      "166 Condom use at last high-risk sex, 15-24 years old, men, percentage\n",
      "203 Condom use at last high-risk sex, 15-24 years old, women, percentage\n",
      "700 Condom use to overall contraceptive use among currently married women 15-49 years old, percentage\n",
      "125 Condom use with non regular partner, % adults(15-49), female\n",
      "120 Condom use with non regular partner, % adults(15-49), male\n",
      "144 Condom use, population ages 15-24, female (% of females ages 15-24)\n",
      "122 Condom use, population ages 15-24, male (% of males ages 15-24)\n",
      "787 Contraceptive prevalence (% of women ages 15-49)\n",
      "746 Current contraceptive use among married women 15-49 years old, any method, percentage\n",
      "700 Current contraceptive use among married women 15-49 years old, condom, percentage\n",
      "730 Current contraceptive use among married women 15-49 years old, modern methods, percentage\n",
      "36 Debt relief committed under HIPC initiative, cumulative million US$ in end-2009 NPV terms\n",
      "36 Debt relief delivered in full under MDRI initiative, cumulative million US$ in end-2009 NPV terms\n",
      "2575 Debt service as percentage of exports of goods and services and net income\n",
      "2856 Developed country imports from developing countries, admitted duty free, percentage\n",
      "931 Developed country imports from the LDCs, admitted duty free, percentage\n",
      "4375 GNI per capita, Atlas method (current US$)\n",
      "1980 HIV incidence rate, 15-49 years old, percentage (lower bound)\n",
      "1978 HIV incidence rate, 15-49 years old, percentage (mid-point)\n",
      "1980 HIV incidence rate, 15-49 years old, percentage (upper bound)\n",
      "57 HIV prevalence rate, men 15-49 years old, in national based surveys\n",
      "57 HIV prevalence rate, women 15-49 years old, in national based surveys\n",
      "172 Men 15-24 years old with comprehensive correct knowledge of HIV/AIDS, percentage\n",
      "649 Net ODA as percentage of OECD/DAC donors GNI\n",
      "3219 Net ODA received (% of GNI)\n",
      "3492 Net ODA received per capita (current US$)\n",
      "610 Net ODA to LDCs as percentage of OECD/DAC donors GNI\n",
      "616 Net ODA to LDCs, million US$\n",
      "651 Net ODA, million US$\n",
      "3792 Net official development assistance and official aid received (current US$)\n",
      "3495 Net official development assistance received (current US$)\n",
      "212 ODA provided to help build trade capacity, percentage\n",
      "705 ODA received in landlocked developing countries as percentage of their GNI\n",
      "726 ODA received in landlocked developing countries, million US$\n",
      "764 ODA received in small islands developing States as percentage of their GNI\n",
      "938 ODA received in small islands developing States, million US$\n",
      "464 ODA that is untied, million US$\n",
      "193 ODA that is untied, percentage\n",
      "394 ODA to basic social services as percentage of sector-allocable ODA\n",
      "395 ODA to basic social services, million US$\n",
      "2784 People living with HIV, 15-49 years old, percentage\n",
      "2784 People living with HIV, 15-49 years old, percentage (lower bound)\n",
      "2784 People living with HIV, 15-49 years old, percentage (upper bound)\n",
      "71 Percentage of HIV-infected pregnant women who received antiretroviral drugs to reduce the risk for mother-to-child transmission (Mid point)\n",
      "205 Percentage of HIV-infected pregnant women who received antiretroviral drugs to reduce the risk for mother-to-child transmission (lower bound)\n",
      "205 Percentage of HIV-infected pregnant women who received antiretroviral drugs to reduce the risk for mother-to-child transmission (upper bound)\n",
      "978 Poorest quintile&quot;s share in national income or consumption, percentage\n",
      "853 Population below $1.25 (PPP) per day, percentage\n",
      "427 Population below national poverty line, rural, percentage\n",
      "623 Population below national poverty line, total, percentage\n",
      "449 Population below national poverty line, urban, percentage\n",
      "4893 Population, total\n",
      "853 Poverty gap ratio at $1.25 a day (PPP), percentage\n",
      "2784 Prevalence of HIV, total (% of population ages 15-49)\n",
      "3744 Purchasing power parities (PPP) conversion factor, local currency unit to international dollar\n",
      "204 Ratio of school attendance rate of orphans to school attendance rate of non orphans\n",
      "86 School attendance rate of children aged 10-14 both of whose parents are alive and who live with at least one parent\n",
      "66 School attendance rate of orphans aged 10-14\n",
      "335 Unmet need for family planning, limiting, percentage\n",
      "325 Unmet need for family planning, spacing, percentage\n",
      "383 Unmet need for family planning, total, percentage\n",
      "299 Women 15-24 years old with comprehensive correct knowledge of HIV/AIDS, percentage\n",
      "5509 countryname\n",
      "5192 gdppc2012\n",
      "5488 isdeveloped\n",
      "5509 isldc2014\n",
      "5509 islldc\n",
      "5509 ismdgcountry\n",
      "5509 iso3code\n",
      "5488 mdgregions\n",
      "5192 population2012\n",
      "2808 seriesname\n",
      "5534 year\n"
     ]
    }
   ],
   "source": [
    "# inspect how many observations are available for each variable\n",
    "for col in sorted(unreshape.columns):\n",
    "    print unreshape[col].count(), col"
   ]
  },
  {
   "cell_type": "code",
   "execution_count": 49,
   "metadata": {
    "collapsed": false
   },
   "outputs": [],
   "source": [
    "# drop rows with no value for countryname or region\n",
    "unreshape = unreshape.drop(pd.isnull(unreshape[['mdgregions', 'countryname']]).any(1).nonzero()[0])"
   ]
  },
  {
   "cell_type": "code",
   "execution_count": 50,
   "metadata": {
    "collapsed": true
   },
   "outputs": [],
   "source": [
    "# now that series have been transformed into columns, seriesname can be dropped\n",
    "unreshape = unreshape.drop(['seriesname'], axis = 1)"
   ]
  },
  {
   "cell_type": "markdown",
   "metadata": {},
   "source": [
    "### Save processed data\n",
    "\n",
    "Finally, I saved the reshaped and merged dataframe with pickle for use in exploration in another ipython notebook."
   ]
  },
  {
   "cell_type": "code",
   "execution_count": 51,
   "metadata": {
    "collapsed": false
   },
   "outputs": [],
   "source": [
    "with open('un_reshape.pkl', 'w') as picklefile:\n",
    "    pickle.dump(unreshape, picklefile)"
   ]
  },
  {
   "cell_type": "code",
   "execution_count": null,
   "metadata": {
    "collapsed": true
   },
   "outputs": [],
   "source": []
  }
 ],
 "metadata": {
  "kernelspec": {
   "display_name": "Python 2",
   "language": "python",
   "name": "python2"
  },
  "language_info": {
   "codemirror_mode": {
    "name": "ipython",
    "version": 2
   },
   "file_extension": ".py",
   "mimetype": "text/x-python",
   "name": "python",
   "nbconvert_exporter": "python",
   "pygments_lexer": "ipython2",
   "version": "2.7.10"
  }
 },
 "nbformat": 4,
 "nbformat_minor": 0
}
