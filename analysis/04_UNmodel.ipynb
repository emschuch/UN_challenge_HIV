{
 "cells": [
  {
   "cell_type": "code",
   "execution_count": 1,
   "metadata": {
    "collapsed": true
   },
   "outputs": [],
   "source": [
    "%matplotlib inline\n",
    "import pickle\n",
    "import pandas as pd\n",
    "import numpy as np\n",
    "import copy\n",
    "import matplotlib.pyplot as plt\n",
    "\n",
    "from patsy import dmatrices\n",
    "import statsmodels.api as sm\n",
    "from sklearn.linear_model import LinearRegression, LogisticRegression\n",
    "from sklearn.naive_bayes import GaussianNB\n",
    "from sklearn.svm import SVC\n",
    "from sklearn.tree import DecisionTreeClassifier\n",
    "from sklearn.ensemble import RandomForestClassifier, ExtraTreesClassifier, GradientBoostingClassifier\n",
    "from sklearn.cross_validation import train_test_split, cross_val_score, cross_val_predict\n",
    "\n",
    "from sklearn.metrics import accuracy_score, precision_score, recall_score, f1_score\n",
    "from sklearn.metrics import roc_curve, auc, classification_report"
   ]
  },
  {
   "cell_type": "markdown",
   "metadata": {},
   "source": [
    "### Open previously saved pickle file"
   ]
  },
  {
   "cell_type": "code",
   "execution_count": 2,
   "metadata": {
    "collapsed": true
   },
   "outputs": [],
   "source": [
    "with open('un_explore.pkl') as picklefile:\n",
    "    undata = pickle.load(picklefile)"
   ]
  },
  {
   "cell_type": "markdown",
   "metadata": {},
   "source": [
    "### Print column names and counts for non-NaN values for each column"
   ]
  },
  {
   "cell_type": "code",
   "execution_count": 3,
   "metadata": {
    "collapsed": false,
    "scrolled": false
   },
   "outputs": [
    {
     "name": "stdout",
     "output_type": "stream",
     "text": [
      "2814 adolescent_birth_rate_per_1000_women\n",
      "302 agriculture_support_estimate_for_oecd_countries_as_percentage_of_their_gdp\n",
      "302 agriculture_support_estimate_for_oecd_countries_million_us\n",
      "2808 aids_deaths\n",
      "2808 aids_deaths_lower_bound\n",
      "2808 aids_deaths_upper_bound\n",
      "936 aids_orphans_one_or_both_parents\n",
      "349 antenatal_care_coverage_at_least_four_visits_percentage\n",
      "645 antenatal_care_coverage_at_least_one_visit_percentage\n",
      "310 antiretroviral_therapy_coverage_among_people_with_advanced_hiv_infection_percentage\n",
      "316 antiretroviral_therapy_coverage_among_people_with_advanced_hiv_infection_percentage_lower_bound\n",
      "322 antiretroviral_therapy_coverage_among_people_with_advanced_hiv_infection_percentage_upper_bound\n",
      "157 condom_use_at_last_highrisk_sex_1524_years_old_men_percentage\n",
      "191 condom_use_at_last_highrisk_sex_1524_years_old_women_percentage\n",
      "144 condom_use_population_ages_1524_female__of_females_ages_1524\n",
      "122 condom_use_population_ages_1524_male__of_males_ages_1524\n",
      "682 condom_use_to_overall_contraceptive_use_among_currently_married_women_1549_years_old_percentage\n",
      "125 condom_use_with_non_regular_partner__adults1549_female\n",
      "120 condom_use_with_non_regular_partner__adults1549_male\n",
      "786 contraceptive_prevalence__of_women_ages_1549\n",
      "5256 countryname\n",
      "728 current_contraceptive_use_among_married_women_1549_years_old_any_method_percentage\n",
      "682 current_contraceptive_use_among_married_women_1549_years_old_condom_percentage\n",
      "712 current_contraceptive_use_among_married_women_1549_years_old_modern_methods_percentage\n",
      "36 debt_relief_committed_under_hipc_initiative_cumulative_million_us_in_end2009_npv_terms\n",
      "36 debt_relief_delivered_in_full_under_mdri_initiative_cumulative_million_us_in_end2009_npv_terms\n",
      "2575 debt_service_as_percentage_of_exports_of_goods_and_services_and_net_income\n",
      "2856 developed_country_imports_from_developing_countries_admitted_duty_free_percentage\n",
      "882 developed_country_imports_from_the_ldcs_admitted_duty_free_percentage\n",
      "4965 gdppc2012\n",
      "4220 gni_per_capita_atlas_method_current_us\n",
      "1980 hiv_incidence_rate_1549_years_old_percentage_lower_bound\n",
      "1978 hiv_incidence_rate_1549_years_old_percentage_midpoint\n",
      "1980 hiv_incidence_rate_1549_years_old_percentage_upper_bound\n",
      "57 hiv_prevalence_rate_men_1549_years_old_in_national_based_surveys\n",
      "57 hiv_prevalence_rate_women_1549_years_old_in_national_based_surveys\n",
      "5256 isdeveloped\n",
      "5256 isldc2014\n",
      "5256 islldc\n",
      "5256 ismdgcountry\n",
      "5256 iso3code\n",
      "5256 mdgregions\n",
      "159 men_1524_years_old_with_comprehensive_correct_knowledge_of_hivaids_percentage\n",
      "621 net_oda_as_percentage_of_oecddac_donors_gni\n",
      "3495 net_oda_mill\n",
      "623 net_oda_million_us\n",
      "3219 net_oda_received__of_gni\n",
      "3492 net_oda_received_per_capita_current_us\n",
      "610 net_oda_to_ldcs_as_percentage_of_oecddac_donors_gni\n",
      "616 net_oda_to_ldcs_million_us\n",
      "3792 net_odaplus_mill\n",
      "3792 net_official_development_assistance_and_official_aid_received_current_us\n",
      "3495 net_official_development_assistance_received_current_us\n",
      "212 oda_provided_to_help_build_trade_capacity_percentage\n",
      "705 oda_received_in_landlocked_developing_countries_as_percentage_of_their_gni\n",
      "726 oda_received_in_landlocked_developing_countries_million_us\n",
      "764 oda_received_in_small_islands_developing_states_as_percentage_of_their_gni\n",
      "938 oda_received_in_small_islands_developing_states_million_us\n",
      "464 oda_that_is_untied_million_us\n",
      "193 oda_that_is_untied_percentage\n",
      "394 oda_to_basic_social_services_as_percentage_of_sectorallocable_oda\n",
      "395 oda_to_basic_social_services_million_us\n",
      "2784 people_living_with_hiv_1549_years_old_percentage\n",
      "2784 people_living_with_hiv_1549_years_old_percentage_lower_bound\n",
      "2784 people_living_with_hiv_1549_years_old_percentage_upper_bound\n",
      "205 percentage_of_hivinfected_pregnant_women_who_received_antiretroviral_drugs_to_reduce_the_risk_for_mothertochild_transmission_lower_bound\n",
      "71 percentage_of_hivinfected_pregnant_women_who_received_antiretroviral_drugs_to_reduce_the_risk_for_mothertochild_transmission_mid_point\n",
      "205 percentage_of_hivinfected_pregnant_women_who_received_antiretroviral_drugs_to_reduce_the_risk_for_mothertochild_transmission_upper_bound\n",
      "978 poorest_quintilequots_share_in_national_income_or_consumption_percentage\n",
      "4965 population2012\n",
      "853 population_below_125_ppp_per_day_percentage\n",
      "424 population_below_national_poverty_line_rural_percentage\n",
      "620 population_below_national_poverty_line_total_percentage\n",
      "446 population_below_national_poverty_line_urban_percentage\n",
      "4893 population_total\n",
      "853 poverty_gap_ratio_at_125_a_day_ppp_percentage\n",
      "2784 prevalence_of_hiv_total__of_population_ages_1549\n",
      "3744 purchasing_power_parities_ppp_conversion_factor_local_currency_unit_to_international_dollar\n",
      "196 ratio_of_school_attendance_rate_of_orphans_to_school_attendance_rate_of_non_orphans\n",
      "84 school_attendance_rate_of_children_aged_1014_both_of_whose_parents_are_alive_and_who_live_with_at_least_one_parent\n",
      "64 school_attendance_rate_of_orphans_aged_1014\n",
      "325 unmet_need_for_family_planning_limiting_percentage\n",
      "315 unmet_need_for_family_planning_spacing_percentage\n",
      "367 unmet_need_for_family_planning_total_percentage\n",
      "280 women_1524_years_old_with_comprehensive_correct_knowledge_of_hivaids_percentage\n",
      "5256 year\n"
     ]
    }
   ],
   "source": [
    "for col in sorted(undata.columns):\n",
    "    print undata[col].count(), col"
   ]
  },
  {
   "cell_type": "markdown",
   "metadata": {},
   "source": [
    "### Print counts specifically for contraceptive use variables"
   ]
  },
  {
   "cell_type": "code",
   "execution_count": 4,
   "metadata": {
    "collapsed": true
   },
   "outputs": [],
   "source": [
    "contr_use = ['condom_use_at_last_highrisk_sex_1524_years_old_men_percentage',\n",
    "    'condom_use_at_last_highrisk_sex_1524_years_old_women_percentage',\n",
    "    'condom_use_population_ages_1524_female__of_females_ages_1524',\n",
    "    'condom_use_population_ages_1524_male__of_males_ages_1524',\n",
    "    'condom_use_to_overall_contraceptive_use_among_currently_married_women_1549_years_old_percentage',\n",
    "    'condom_use_with_non_regular_partner__adults1549_female',\n",
    "    'condom_use_with_non_regular_partner__adults1549_male',\n",
    "    'contraceptive_prevalence__of_women_ages_1549']"
   ]
  },
  {
   "cell_type": "code",
   "execution_count": 5,
   "metadata": {
    "collapsed": false
   },
   "outputs": [
    {
     "name": "stdout",
     "output_type": "stream",
     "text": [
      "157 condom_use_at_last_highrisk_sex_1524_years_old_men_percentage\n",
      "191 condom_use_at_last_highrisk_sex_1524_years_old_women_percentage\n",
      "144 condom_use_population_ages_1524_female__of_females_ages_1524\n",
      "122 condom_use_population_ages_1524_male__of_males_ages_1524\n",
      "682 condom_use_to_overall_contraceptive_use_among_currently_married_women_1549_years_old_percentage\n",
      "125 condom_use_with_non_regular_partner__adults1549_female\n",
      "120 condom_use_with_non_regular_partner__adults1549_male\n",
      "786 contraceptive_prevalence__of_women_ages_1549\n"
     ]
    }
   ],
   "source": [
    "for col in contr_use:\n",
    "    print undata[col].count(), col"
   ]
  },
  {
   "cell_type": "markdown",
   "metadata": {},
   "source": [
    "### Create funtion for linear regression modeling\n",
    "\n",
    "The `model_lr_data` function creates matrices and a linear regression model and outputs a summary of the results. The inputs are:\n",
    "\n",
    "* `dep`: dependent variable\n",
    "* `ind`: a list of features / independent variables\n",
    "* `data`: which dataframe to use"
   ]
  },
  {
   "cell_type": "code",
   "execution_count": 6,
   "metadata": {
    "collapsed": true
   },
   "outputs": [],
   "source": [
    "def model_lr_data(dep, ind, data):\n",
    "    formula = dep + '~' + '+'.join(ind)\n",
    "    y, X = dmatrices(formula, data=data, return_type='dataframe' )\n",
    "    print X.shape\n",
    "    print '\\n****PREDICTING\\n' + dep\n",
    "    model = sm.OLS(y, X)\n",
    "    results = model.fit()\n",
    "    print results.summary()"
   ]
  },
  {
   "cell_type": "code",
   "execution_count": 7,
   "metadata": {
    "collapsed": true
   },
   "outputs": [],
   "source": [
    "hiv = 'hiv_incidence_rate_1549_years_old_percentage_midpoint'\n",
    "pop = 'population_total'\n",
    "oda = 'net_oda_mill'\n",
    "gni = 'gni_per_capita_atlas_method_current_us'\n",
    "prev = 'prevalence_of_hiv_total__of_population_ages_1549'\n",
    "contr = 'condom_use_at_last_highrisk_sex_1524_years_old_women_percentage'\n",
    "pvty = 'population_below_national_poverty_line_total_percentage'\n",
    "abr = 'adolescent_birth_rate_per_1000_women'"
   ]
  },
  {
   "cell_type": "markdown",
   "metadata": {},
   "source": [
    "## Linear model 1\n",
    "\n",
    "Use a number of features which may be important to predict HIV incidence rate worldwide."
   ]
  },
  {
   "cell_type": "code",
   "execution_count": 8,
   "metadata": {
    "collapsed": false
   },
   "outputs": [],
   "source": [
    "features1 = [\n",
    "            'net_oda_mill', \n",
    "            pop,\n",
    "            gni,\n",
    "            prev,\n",
    "            contr,\n",
    "            pvty,\n",
    "            abr,\n",
    "            'year', \n",
    "            'mdgregions',\n",
    "            'islldc',\n",
    "            'isldc2014',\n",
    "            'isdeveloped'\n",
    "           ]"
   ]
  },
  {
   "cell_type": "code",
   "execution_count": 9,
   "metadata": {
    "collapsed": false,
    "scrolled": false
   },
   "outputs": [
    {
     "name": "stdout",
     "output_type": "stream",
     "text": [
      "(15, 22)\n",
      "\n",
      "****PREDICTING\n",
      "hiv_incidence_rate_1549_years_old_percentage_midpoint\n",
      "                                              OLS Regression Results                                             \n",
      "=================================================================================================================\n",
      "Dep. Variable:     hiv_incidence_rate_1549_years_old_percentage_midpoint   R-squared:                       1.000\n",
      "Model:                                                               OLS   Adj. R-squared:                  1.000\n",
      "Method:                                                    Least Squares   F-statistic:                     7189.\n",
      "Date:                                                   Sun, 20 Sep 2015   Prob (F-statistic):           0.000139\n",
      "Time:                                                           18:04:55   Log-Likelihood:                 78.601\n",
      "No. Observations:                                                     15   AIC:                            -131.2\n",
      "Df Residuals:                                                          2   BIC:                            -122.0\n",
      "Df Model:                                                             12                                         \n",
      "Covariance Type:                                               nonrobust                                         \n",
      "===================================================================================================================================\n",
      "                                                                      coef    std err          t      P>|t|      [95.0% Conf. Int.]\n",
      "-----------------------------------------------------------------------------------------------------------------------------------\n",
      "Intercept                                                           6.5609      1.513      4.336      0.049         0.051    13.071\n",
      "mdgregions[T.Caucasus and Central Asia]                             0.0880      0.007     12.524      0.006         0.058     0.118\n",
      "mdgregions[T.Developed]                                             0.0393      0.004      9.329      0.011         0.021     0.057\n",
      "mdgregions[T.Eastern Asia]                                      -1.017e-10   2.35e-11     -4.337      0.049     -2.03e-10 -8.06e-13\n",
      "mdgregions[T.Latin America]                                         0.1031      0.007     15.247      0.004         0.074     0.132\n",
      "mdgregions[T.Northern Africa]                                   -2.364e-12   5.45e-13     -4.336      0.049     -4.71e-12 -1.83e-14\n",
      "mdgregions[T.Oceania]                                            2.312e-12   5.33e-13      4.336      0.049      1.79e-14  4.61e-12\n",
      "mdgregions[T.South-eastern Asia]                                 -5.14e-14   1.18e-14     -4.338      0.049     -1.02e-13 -4.18e-16\n",
      "mdgregions[T.Southern Asia]                                      1.476e-12    3.4e-13      4.336      0.049      1.15e-14  2.94e-12\n",
      "mdgregions[T.Sub-Saharan Africa]                                    0.0310      0.003      9.907      0.010         0.018     0.044\n",
      "mdgregions[T.Western Asia]                                      -2.552e-13   5.88e-14     -4.336      0.049     -5.08e-13 -1.97e-15\n",
      "net_oda_mill                                                     1.384e-06   4.84e-06      0.286      0.802     -1.95e-05  2.22e-05\n",
      "population_total                                                -1.367e-09   1.48e-10     -9.222      0.012        -2e-09 -7.29e-10\n",
      "gni_per_capita_atlas_method_current_us                           2.543e-06    1.5e-06      1.692      0.233     -3.92e-06  9.01e-06\n",
      "prevalence_of_hiv_total__of_population_ages_1549                    0.1049      0.001    100.297      0.000         0.100     0.109\n",
      "condom_use_at_last_highrisk_sex_1524_years_old_women_percentage    -0.0002      0.000     -0.651      0.582        -0.001     0.001\n",
      "population_below_national_poverty_line_total_percentage          4.783e-05      0.000      0.173      0.879        -0.001     0.001\n",
      "adolescent_birth_rate_per_1000_women                               -0.0003   9.59e-05     -3.025      0.094        -0.001     0.000\n",
      "year                                                               -0.0033      0.001     -4.335      0.049        -0.007 -2.43e-05\n",
      "islldc                                                                   0          0        nan        nan             0         0\n",
      "isldc2014                                                           0.0310      0.003      9.907      0.010         0.018     0.044\n",
      "isdeveloped                                                         0.0393      0.004      9.329      0.011         0.021     0.057\n",
      "==============================================================================\n",
      "Omnibus:                        3.858   Durbin-Watson:                   2.729\n",
      "Prob(Omnibus):                  0.145   Jarque-Bera (JB):                1.523\n",
      "Skew:                          -0.200   Prob(JB):                        0.467\n",
      "Kurtosis:                       4.509   Cond. No.                     2.15e+22\n",
      "==============================================================================\n",
      "\n",
      "Warnings:\n",
      "[1] Standard Errors assume that the covariance matrix of the errors is correctly specified.\n",
      "[2] The input rank is higher than the number of observations.\n",
      "[3] The smallest eigenvalue is 1.6e-29. This might indicate that there are\n",
      "strong multicollinearity problems or that the design matrix is singular.\n"
     ]
    },
    {
     "name": "stderr",
     "output_type": "stream",
     "text": [
      "/usr/local/lib/python2.7/site-packages/scipy/stats/stats.py:1233: UserWarning: kurtosistest only valid for n>=20 ... continuing anyway, n=15\n",
      "  int(n))\n"
     ]
    }
   ],
   "source": [
    "model_lr_data(hiv, features1, undata)"
   ]
  },
  {
   "cell_type": "markdown",
   "metadata": {},
   "source": [
    "> The first model has a high R-squared, but is only using 15 observations, since many of the selected features include rows with missing values."
   ]
  },
  {
   "cell_type": "markdown",
   "metadata": {},
   "source": [
    "## Linear model 2\n",
    "\n",
    "Limit the features so that more observations will be included. Predict HIV incidence rate worldwide."
   ]
  },
  {
   "cell_type": "code",
   "execution_count": 10,
   "metadata": {
    "collapsed": true
   },
   "outputs": [],
   "source": [
    "features2 = [\n",
    "            'net_oda_mill', \n",
    "            gni,\n",
    "            prev,\n",
    "            abr,\n",
    "            'year', \n",
    "            'mdgregions',\n",
    "            'isdeveloped'\n",
    "           ]"
   ]
  },
  {
   "cell_type": "code",
   "execution_count": 11,
   "metadata": {
    "collapsed": false,
    "scrolled": false
   },
   "outputs": [
    {
     "name": "stdout",
     "output_type": "stream",
     "text": [
      "(680, 17)\n",
      "\n",
      "****PREDICTING\n",
      "hiv_incidence_rate_1549_years_old_percentage_midpoint\n",
      "                                              OLS Regression Results                                             \n",
      "=================================================================================================================\n",
      "Dep. Variable:     hiv_incidence_rate_1549_years_old_percentage_midpoint   R-squared:                       0.817\n",
      "Model:                                                               OLS   Adj. R-squared:                  0.814\n",
      "Method:                                                    Least Squares   F-statistic:                     229.1\n",
      "Date:                                                   Sun, 20 Sep 2015   Prob (F-statistic):          1.45e-235\n",
      "Time:                                                           18:04:58   Log-Likelihood:                -87.688\n",
      "No. Observations:                                                    680   AIC:                             203.4\n",
      "Df Residuals:                                                        666   BIC:                             266.7\n",
      "Df Model:                                                             13                                         \n",
      "Covariance Type:                                               nonrobust                                         \n",
      "====================================================================================================================\n",
      "                                                       coef    std err          t      P>|t|      [95.0% Conf. Int.]\n",
      "--------------------------------------------------------------------------------------------------------------------\n",
      "Intercept                                           35.5183      3.905      9.095      0.000        27.850    43.187\n",
      "mdgregions[T.Caucasus and Central Asia]              0.1108      0.065      1.700      0.090        -0.017     0.239\n",
      "mdgregions[T.Developed]                              0.0814      0.037      2.197      0.028         0.009     0.154\n",
      "mdgregions[T.Eastern Asia]                        8.473e-11   9.32e-12      9.095      0.000      6.64e-11  1.03e-10\n",
      "mdgregions[T.Latin America]                          0.0634      0.053      1.195      0.232        -0.041     0.168\n",
      "mdgregions[T.Northern Africa]                        0.0438      0.070      0.629      0.529        -0.093     0.181\n",
      "mdgregions[T.Oceania]                                0.1156      0.170      0.679      0.497        -0.219     0.450\n",
      "mdgregions[T.South-eastern Asia]                     0.0611      0.070      0.878      0.380        -0.076     0.198\n",
      "mdgregions[T.Southern Asia]                          0.0670      0.068      0.980      0.327        -0.067     0.201\n",
      "mdgregions[T.Sub-Saharan Africa]                     0.1806      0.060      3.028      0.003         0.063     0.298\n",
      "mdgregions[T.Western Asia]                       -1.447e-14   1.59e-15     -9.106      0.000     -1.76e-14 -1.13e-14\n",
      "net_oda_mill                                        1.2e-05   1.54e-05      0.781      0.435     -1.82e-05  4.22e-05\n",
      "gni_per_capita_atlas_method_current_us            1.354e-05   6.29e-06      2.154      0.032       1.2e-06  2.59e-05\n",
      "prevalence_of_hiv_total__of_population_ages_1549     0.1241      0.003     44.916      0.000         0.119     0.130\n",
      "adolescent_birth_rate_per_1000_women                -0.0006      0.000     -1.755      0.080        -0.001  7.69e-05\n",
      "year                                                -0.0178      0.002     -9.069      0.000        -0.022    -0.014\n",
      "isdeveloped                                          0.0814      0.037      2.197      0.028         0.009     0.154\n",
      "==============================================================================\n",
      "Omnibus:                      652.272   Durbin-Watson:                   1.224\n",
      "Prob(Omnibus):                  0.000   Jarque-Bera (JB):            62816.026\n",
      "Skew:                           3.934   Prob(JB):                         0.00\n",
      "Kurtosis:                      49.423   Cond. No.                     4.60e+20\n",
      "==============================================================================\n",
      "\n",
      "Warnings:\n",
      "[1] Standard Errors assume that the covariance matrix of the errors is correctly specified.\n",
      "[2] The smallest eigenvalue is 4.33e-32. This might indicate that there are\n",
      "strong multicollinearity problems or that the design matrix is singular.\n"
     ]
    }
   ],
   "source": [
    "model_lr_data(hiv, features2, undata)"
   ]
  },
  {
   "cell_type": "markdown",
   "metadata": {},
   "source": [
    "> Contraceptive data is too sparse to make accurate predictions. Prevelance of HIV appears significant, GNI appears to be significant, adolescent birth rate is close to significant. ODA is not significant."
   ]
  },
  {
   "cell_type": "markdown",
   "metadata": {},
   "source": [
    "##Linear model 3\n",
    "\n",
    "Sub-Saharan Africa is the area of greatest concern. Create a subset of sub-Saharan Africa data for building models. Use limited features to predict HIV incidence rate in sub-Saharan Africa."
   ]
  },
  {
   "cell_type": "code",
   "execution_count": 12,
   "metadata": {
    "collapsed": false
   },
   "outputs": [
    {
     "data": {
      "text/plain": [
       "(1214, 86)"
      ]
     },
     "execution_count": 12,
     "metadata": {},
     "output_type": "execute_result"
    }
   ],
   "source": [
    "ssafrica = undata[undata['mdgregions'] == 'Sub-Saharan Africa']\n",
    "\n",
    "ssafrica.shape"
   ]
  },
  {
   "cell_type": "code",
   "execution_count": 13,
   "metadata": {
    "collapsed": true
   },
   "outputs": [],
   "source": [
    "features3 = [\n",
    "            'net_oda_mill', \n",
    "            gni,\n",
    "            prev,\n",
    "            'year'\n",
    "           ]"
   ]
  },
  {
   "cell_type": "code",
   "execution_count": 14,
   "metadata": {
    "collapsed": false
   },
   "outputs": [
    {
     "name": "stdout",
     "output_type": "stream",
     "text": [
      "(923, 5)\n",
      "\n",
      "****PREDICTING\n",
      "hiv_incidence_rate_1549_years_old_percentage_midpoint\n",
      "                                              OLS Regression Results                                             \n",
      "=================================================================================================================\n",
      "Dep. Variable:     hiv_incidence_rate_1549_years_old_percentage_midpoint   R-squared:                       0.760\n",
      "Model:                                                               OLS   Adj. R-squared:                  0.759\n",
      "Method:                                                    Least Squares   F-statistic:                     726.7\n",
      "Date:                                                   Sun, 20 Sep 2015   Prob (F-statistic):          1.19e-282\n",
      "Time:                                                           18:05:01   Log-Likelihood:                -710.84\n",
      "No. Observations:                                                    923   AIC:                             1432.\n",
      "Df Residuals:                                                        918   BIC:                             1456.\n",
      "Df Model:                                                              4                                         \n",
      "Covariance Type:                                               nonrobust                                         \n",
      "====================================================================================================================\n",
      "                                                       coef    std err          t      P>|t|      [95.0% Conf. Int.]\n",
      "--------------------------------------------------------------------------------------------------------------------\n",
      "Intercept                                           88.1807      5.465     16.136      0.000        77.456    98.906\n",
      "net_oda_mill                                      1.601e-05   2.41e-05      0.664      0.507     -3.13e-05  6.33e-05\n",
      "gni_per_capita_atlas_method_current_us            5.053e-06    1.2e-05      0.421      0.674     -1.85e-05  2.86e-05\n",
      "prevalence_of_hiv_total__of_population_ages_1549     0.1329      0.003     50.504      0.000         0.128     0.138\n",
      "year                                                -0.0441      0.003    -16.113      0.000        -0.049    -0.039\n",
      "==============================================================================\n",
      "Omnibus:                      437.572   Durbin-Watson:                   0.157\n",
      "Prob(Omnibus):                  0.000   Jarque-Bera (JB):             3454.981\n",
      "Skew:                           2.002   Prob(JB):                         0.00\n",
      "Kurtosis:                      11.591   Cond. No.                     7.88e+05\n",
      "==============================================================================\n",
      "\n",
      "Warnings:\n",
      "[1] Standard Errors assume that the covariance matrix of the errors is correctly specified.\n",
      "[2] The condition number is large, 7.88e+05. This might indicate that there are\n",
      "strong multicollinearity or other numerical problems.\n"
     ]
    }
   ],
   "source": [
    "model_lr_data(hiv, features3, ssafrica)"
   ]
  },
  {
   "cell_type": "markdown",
   "metadata": {},
   "source": [
    "> ODA received and GNI do not appear to be significant. Preveleance of HIV and year are the most significant."
   ]
  },
  {
   "cell_type": "markdown",
   "metadata": {},
   "source": [
    "### Create new column - HIV percent change\n",
    "\n",
    "Create new column to use as dependent variable, `hiv_pctchange`, which indicates the percent change in the HIV incidence rate from the previous year."
   ]
  },
  {
   "cell_type": "code",
   "execution_count": 15,
   "metadata": {
    "collapsed": true
   },
   "outputs": [],
   "source": [
    "keys = ['countryname', 'iso3code', 'year', 'mdgregions', 'islldc', 'isldc2014', 'ismdgcountry']"
   ]
  },
  {
   "cell_type": "code",
   "execution_count": 16,
   "metadata": {
    "collapsed": false
   },
   "outputs": [],
   "source": [
    "df1 = undata[keys + [hiv]]\n",
    "df1 = df1.set_index(keys)"
   ]
  },
  {
   "cell_type": "code",
   "execution_count": 17,
   "metadata": {
    "collapsed": false
   },
   "outputs": [
    {
     "data": {
      "text/html": [
       "<div style=\"max-height:1000px;max-width:1500px;overflow:auto;\">\n",
       "<table border=\"1\" class=\"dataframe\">\n",
       "  <thead>\n",
       "    <tr style=\"text-align: right;\">\n",
       "      <th></th>\n",
       "      <th>countryname</th>\n",
       "      <th>iso3code</th>\n",
       "      <th>year</th>\n",
       "      <th>mdgregions</th>\n",
       "      <th>islldc</th>\n",
       "      <th>isldc2014</th>\n",
       "      <th>ismdgcountry</th>\n",
       "      <th>hiv_pctchange</th>\n",
       "    </tr>\n",
       "  </thead>\n",
       "  <tbody>\n",
       "    <tr>\n",
       "      <th>5251</th>\n",
       "      <td>Zimbabwe</td>\n",
       "      <td>ZWE</td>\n",
       "      <td>2009</td>\n",
       "      <td>Sub-Saharan Africa</td>\n",
       "      <td>0</td>\n",
       "      <td>0</td>\n",
       "      <td>1</td>\n",
       "      <td>-0.028369</td>\n",
       "    </tr>\n",
       "    <tr>\n",
       "      <th>5252</th>\n",
       "      <td>Zimbabwe</td>\n",
       "      <td>ZWE</td>\n",
       "      <td>2010</td>\n",
       "      <td>Sub-Saharan Africa</td>\n",
       "      <td>0</td>\n",
       "      <td>0</td>\n",
       "      <td>1</td>\n",
       "      <td>-0.051095</td>\n",
       "    </tr>\n",
       "    <tr>\n",
       "      <th>5253</th>\n",
       "      <td>Zimbabwe</td>\n",
       "      <td>ZWE</td>\n",
       "      <td>2011</td>\n",
       "      <td>Sub-Saharan Africa</td>\n",
       "      <td>0</td>\n",
       "      <td>0</td>\n",
       "      <td>1</td>\n",
       "      <td>-0.069231</td>\n",
       "    </tr>\n",
       "    <tr>\n",
       "      <th>5254</th>\n",
       "      <td>Zimbabwe</td>\n",
       "      <td>ZWE</td>\n",
       "      <td>2012</td>\n",
       "      <td>Sub-Saharan Africa</td>\n",
       "      <td>0</td>\n",
       "      <td>0</td>\n",
       "      <td>1</td>\n",
       "      <td>-0.090909</td>\n",
       "    </tr>\n",
       "    <tr>\n",
       "      <th>5255</th>\n",
       "      <td>Zimbabwe</td>\n",
       "      <td>ZWE</td>\n",
       "      <td>2013</td>\n",
       "      <td>Sub-Saharan Africa</td>\n",
       "      <td>0</td>\n",
       "      <td>0</td>\n",
       "      <td>1</td>\n",
       "      <td>-0.118182</td>\n",
       "    </tr>\n",
       "  </tbody>\n",
       "</table>\n",
       "</div>"
      ],
      "text/plain": [
       "     countryname iso3code  year          mdgregions  islldc  isldc2014  \\\n",
       "5251    Zimbabwe      ZWE  2009  Sub-Saharan Africa       0          0   \n",
       "5252    Zimbabwe      ZWE  2010  Sub-Saharan Africa       0          0   \n",
       "5253    Zimbabwe      ZWE  2011  Sub-Saharan Africa       0          0   \n",
       "5254    Zimbabwe      ZWE  2012  Sub-Saharan Africa       0          0   \n",
       "5255    Zimbabwe      ZWE  2013  Sub-Saharan Africa       0          0   \n",
       "\n",
       "      ismdgcountry  hiv_pctchange  \n",
       "5251             1      -0.028369  \n",
       "5252             1      -0.051095  \n",
       "5253             1      -0.069231  \n",
       "5254             1      -0.090909  \n",
       "5255             1      -0.118182  "
      ]
     },
     "execution_count": 17,
     "metadata": {},
     "output_type": "execute_result"
    }
   ],
   "source": [
    "df1 = df1.sort()\n",
    "df2 = df1.pct_change()\n",
    "df2 = df2.reset_index()\n",
    "df2.columns = keys + ['hiv_pctchange']\n",
    "df2.tail()"
   ]
  },
  {
   "cell_type": "code",
   "execution_count": 18,
   "metadata": {
    "collapsed": false
   },
   "outputs": [
    {
     "data": {
      "text/plain": [
       "(5256, 86)"
      ]
     },
     "execution_count": 18,
     "metadata": {},
     "output_type": "execute_result"
    }
   ],
   "source": [
    "undata.shape"
   ]
  },
  {
   "cell_type": "code",
   "execution_count": 19,
   "metadata": {
    "collapsed": false
   },
   "outputs": [
    {
     "data": {
      "text/plain": [
       "(5256, 87)"
      ]
     },
     "execution_count": 19,
     "metadata": {},
     "output_type": "execute_result"
    }
   ],
   "source": [
    "undata2 = pd.merge(undata, df2, how='outer', on=keys)\n",
    "undata2.shape"
   ]
  },
  {
   "cell_type": "markdown",
   "metadata": {},
   "source": [
    "## Linear model 4\n",
    "\n",
    "Predict on new variable, percent change of HIV incidence rate, in sub-Saharan Africa."
   ]
  },
  {
   "cell_type": "code",
   "execution_count": 20,
   "metadata": {
    "collapsed": true
   },
   "outputs": [],
   "source": [
    "ssafrica2 = undata2[undata2['mdgregions'] == 'Sub-Saharan Africa']"
   ]
  },
  {
   "cell_type": "code",
   "execution_count": 21,
   "metadata": {
    "collapsed": false
   },
   "outputs": [],
   "source": [
    "features4 = [\n",
    "            'net_oda_mill', \n",
    "            gni,\n",
    "            prev,\n",
    "            abr,\n",
    "            contr,\n",
    "            'year', \n",
    "            'isdeveloped'\n",
    "           ]"
   ]
  },
  {
   "cell_type": "code",
   "execution_count": 22,
   "metadata": {
    "collapsed": false,
    "scrolled": false
   },
   "outputs": [
    {
     "name": "stdout",
     "output_type": "stream",
     "text": [
      "(30, 8)\n",
      "\n",
      "****PREDICTING\n",
      "hiv_pctchange\n",
      "                            OLS Regression Results                            \n",
      "==============================================================================\n",
      "Dep. Variable:          hiv_pctchange   R-squared:                       0.169\n",
      "Model:                            OLS   Adj. R-squared:                 -0.096\n",
      "Method:                 Least Squares   F-statistic:                    0.6386\n",
      "Date:                Sun, 20 Sep 2015   Prob (F-statistic):              0.719\n",
      "Time:                        18:05:12   Log-Likelihood:                -12.131\n",
      "No. Observations:                  30   AIC:                             40.26\n",
      "Df Residuals:                      22   BIC:                             51.47\n",
      "Df Model:                           7                                         \n",
      "Covariance Type:            nonrobust                                         \n",
      "===================================================================================================================================\n",
      "                                                                      coef    std err          t      P>|t|      [95.0% Conf. Int.]\n",
      "-----------------------------------------------------------------------------------------------------------------------------------\n",
      "Intercept                                                           8.8645     54.162      0.164      0.871      -103.461   121.190\n",
      "net_oda_mill                                                    -7.332e-05      0.000     -0.474      0.640        -0.000     0.000\n",
      "gni_per_capita_atlas_method_current_us                          -4.694e-05   3.59e-05     -1.306      0.205        -0.000  2.76e-05\n",
      "prevalence_of_hiv_total__of_population_ages_1549                   -0.0094      0.013     -0.722      0.478        -0.036     0.018\n",
      "adolescent_birth_rate_per_1000_women                               -0.0026      0.002     -1.106      0.281        -0.007     0.002\n",
      "condom_use_at_last_highrisk_sex_1524_years_old_women_percentage     0.0063      0.007      0.905      0.375        -0.008     0.021\n",
      "year                                                               -0.0044      0.027     -0.161      0.874        -0.060     0.052\n",
      "isdeveloped                                                        -0.3120      0.274     -1.139      0.267        -0.880     0.256\n",
      "==============================================================================\n",
      "Omnibus:                       43.094   Durbin-Watson:                   2.498\n",
      "Prob(Omnibus):                  0.000   Jarque-Bera (JB):              194.256\n",
      "Skew:                           2.828   Prob(JB):                     6.58e-43\n",
      "Kurtosis:                      14.109   Cond. No.                     2.53e+06\n",
      "==============================================================================\n",
      "\n",
      "Warnings:\n",
      "[1] Standard Errors assume that the covariance matrix of the errors is correctly specified.\n",
      "[2] The condition number is large, 2.53e+06. This might indicate that there are\n",
      "strong multicollinearity or other numerical problems.\n"
     ]
    }
   ],
   "source": [
    "model_lr_data('hiv_pctchange', features4, undata2)"
   ]
  },
  {
   "cell_type": "markdown",
   "metadata": {},
   "source": [
    "> R-squared is very low at 0.17, no features appear to be significant, and the model is trained on very few observations."
   ]
  },
  {
   "cell_type": "markdown",
   "metadata": {},
   "source": [
    "# Classification models\n",
    "\n",
    "Convert to a classification problem and investigate feature importance.\n",
    "\n",
    "Is HIV incidence rate decreasing from previous year?"
   ]
  },
  {
   "cell_type": "code",
   "execution_count": 23,
   "metadata": {
    "collapsed": false
   },
   "outputs": [
    {
     "data": {
      "text/plain": [
       "(1977, 87)"
      ]
     },
     "execution_count": 23,
     "metadata": {},
     "output_type": "execute_result"
    }
   ],
   "source": [
    "undata3 = copy.deepcopy(undata2[np.isfinite(undata2['hiv_pctchange'])])\n",
    "undata3.shape"
   ]
  },
  {
   "cell_type": "markdown",
   "metadata": {},
   "source": [
    "Create new variable `isdecrease`."
   ]
  },
  {
   "cell_type": "code",
   "execution_count": 24,
   "metadata": {
    "collapsed": false
   },
   "outputs": [
    {
     "data": {
      "text/plain": [
       "1977"
      ]
     },
     "execution_count": 24,
     "metadata": {},
     "output_type": "execute_result"
    }
   ],
   "source": [
    "isdecrease = []\n",
    "\n",
    "for change in undata3['hiv_pctchange']:\n",
    "    if change >= 0:\n",
    "        isdecrease.append(0)\n",
    "    if change < 0:\n",
    "        isdecrease.append(1)\n",
    "        \n",
    "len(isdecrease)"
   ]
  },
  {
   "cell_type": "code",
   "execution_count": 25,
   "metadata": {
    "collapsed": false
   },
   "outputs": [],
   "source": [
    "undata3['isdecrease'] = isdecrease"
   ]
  },
  {
   "cell_type": "markdown",
   "metadata": {},
   "source": [
    "### Classification\n",
    "\n",
    "Create functions to run multiple classification models at once and output metrics to assess accuracy."
   ]
  },
  {
   "cell_type": "code",
   "execution_count": 26,
   "metadata": {
    "collapsed": false
   },
   "outputs": [],
   "source": [
    "rs = 6\n",
    "\n",
    "models = {'logistic': LogisticRegression(),\n",
    "          'naive bayes': GaussianNB(),\n",
    "          'SVM': SVC(random_state=rs, probability=True),\n",
    "          'gradient boosting': GradientBoostingClassifier(n_estimators=250, random_state=rs),\n",
    "          'decision tree': DecisionTreeClassifier(random_state=rs),\n",
    "          'random forest': RandomForestClassifier(n_estimators=250, random_state=rs),\n",
    "          'extra trees': ExtraTreesClassifier(n_estimators=250, random_state=rs)\n",
    "         }"
   ]
  },
  {
   "cell_type": "code",
   "execution_count": 27,
   "metadata": {
    "collapsed": true
   },
   "outputs": [],
   "source": [
    "def process_data(dep, ind, data):\n",
    "    formula = dep + '~' + '+'.join(ind)\n",
    "    y, X = dmatrices(formula, data=data, return_type='dataframe')\n",
    "    X = X.iloc[:,1:]\n",
    "    y = y.iloc[:,0]\n",
    "    X_tr, X_ts, y_tr, y_ts = train_test_split(X, y, test_size = 0.25, random_state=rs)\n",
    "    return X_tr, X_ts, y_tr, y_ts"
   ]
  },
  {
   "cell_type": "code",
   "execution_count": 28,
   "metadata": {
    "collapsed": true
   },
   "outputs": [],
   "source": [
    "def get_scores(model_dict):\n",
    "    for mname, m in model_dict.iteritems():\n",
    "        print \"*** %s\" % mname\n",
    "        m.fit(X_tr, y_tr)\n",
    "        preds = m.predict(X_ts)\n",
    "        proba = m.predict_proba(X_ts)\n",
    "        print 'accuracy: %f' % accuracy_score(y_ts, preds)\n",
    "        print 'precision: %f' % precision_score(y_ts, preds)\n",
    "        print 'recall: %f' % recall_score(y_ts, preds)\n",
    "        print 'f1 score: %f' % f1_score(y_ts, preds)\n",
    "        print '\\n'\n",
    "        all_preds[mname] = preds\n",
    "        all_proba[mname] = proba"
   ]
  },
  {
   "cell_type": "code",
   "execution_count": 29,
   "metadata": {
    "collapsed": true
   },
   "outputs": [],
   "source": [
    "def get_crossval_scores(X, y, model_dict):\n",
    "    print 'CROSS VALIDATION SCORES'\n",
    "    for mname, m in model_dict.iteritems():\n",
    "        print '\\n*** %s' % mname\n",
    "        acc = np.mean(cross_val_score(m, X, y, scoring='accuracy'))\n",
    "        pre = np.mean(cross_val_score(m, X, y, scoring='precision'))\n",
    "        rec = np.mean(cross_val_score(m, X, y, scoring='recall'))\n",
    "        f1 = np.mean(cross_val_score(m, X, y, scoring='f1'))\n",
    "        print 'cv score: %f' % np.mean(cross_val_score(m, X, y))\n",
    "        print 'accuracy: %f' % acc\n",
    "        print 'precision: %f' % pre\n",
    "        print 'recall: %f' % rec\n",
    "        print 'f1 score: %f' % f1"
   ]
  },
  {
   "cell_type": "code",
   "execution_count": 30,
   "metadata": {
    "collapsed": true
   },
   "outputs": [],
   "source": [
    "ssafrica3 = undata3[undata3['mdgregions'] == 'Sub-Saharan Africa']"
   ]
  },
  {
   "cell_type": "code",
   "execution_count": 31,
   "metadata": {
    "collapsed": true
   },
   "outputs": [],
   "source": [
    "features5 = [\n",
    "            'net_oda_mill', \n",
    "            gni,\n",
    "            prev,\n",
    "            'isdeveloped'\n",
    "           ]"
   ]
  },
  {
   "cell_type": "code",
   "execution_count": 32,
   "metadata": {
    "collapsed": false,
    "scrolled": true
   },
   "outputs": [
    {
     "data": {
      "text/plain": [
       "((692, 4), (231, 4))"
      ]
     },
     "execution_count": 32,
     "metadata": {},
     "output_type": "execute_result"
    }
   ],
   "source": [
    "X_tr, X_ts, y_tr, y_ts = process_data('isdecrease', features5, ssafrica3)\n",
    "\n",
    "X_tr.shape, X_ts.shape"
   ]
  },
  {
   "cell_type": "code",
   "execution_count": 33,
   "metadata": {
    "collapsed": false
   },
   "outputs": [
    {
     "name": "stdout",
     "output_type": "stream",
     "text": [
      "*** SVM\n",
      "accuracy: 0.554113\n",
      "precision: 0.550218\n",
      "recall: 1.000000\n",
      "f1 score: 0.709859\n",
      "\n",
      "\n",
      "*** extra trees\n",
      "accuracy: 0.740260\n",
      "precision: 0.750000\n",
      "recall: 0.785714\n",
      "f1 score: 0.767442\n",
      "\n",
      "\n",
      "*** decision tree\n",
      "accuracy: 0.718615\n",
      "precision: 0.747967\n",
      "recall: 0.730159\n",
      "f1 score: 0.738956\n",
      "\n",
      "\n",
      "*** naive bayes\n",
      "accuracy: 0.606061\n",
      "precision: 0.733333\n",
      "recall: 0.436508\n",
      "f1 score: 0.547264\n",
      "\n",
      "\n",
      "*** gradient boosting\n",
      "accuracy: 0.675325\n",
      "precision: 0.691729\n",
      "recall: 0.730159\n",
      "f1 score: 0.710425\n",
      "\n",
      "\n",
      "*** logistic\n",
      "accuracy: 0.675325\n",
      "precision: 0.694656\n",
      "recall: 0.722222\n",
      "f1 score: 0.708171\n",
      "\n",
      "\n",
      "*** random forest\n",
      "accuracy: 0.744589\n",
      "precision: 0.744526\n",
      "recall: 0.809524\n",
      "f1 score: 0.775665\n",
      "\n",
      "\n"
     ]
    }
   ],
   "source": [
    "all_preds = {}\n",
    "all_proba = {}\n",
    "\n",
    "get_scores(models)"
   ]
  },
  {
   "cell_type": "code",
   "execution_count": 34,
   "metadata": {
    "collapsed": false
   },
   "outputs": [
    {
     "name": "stdout",
     "output_type": "stream",
     "text": [
      "CROSS VALIDATION SCORES\n",
      "\n",
      "*** SVM\n",
      "cv score: 0.580934\n",
      "accuracy: 0.580934\n",
      "precision: 0.581396\n",
      "recall: 0.995025\n",
      "f1 score: 0.733940\n",
      "\n",
      "*** extra trees\n",
      "cv score: 0.722592\n",
      "accuracy: 0.722592\n",
      "precision: 0.747222\n",
      "recall: 0.788557\n",
      "f1 score: 0.767094\n",
      "\n",
      "*** decision tree\n",
      "cv score: 0.645982\n",
      "accuracy: 0.645982\n",
      "precision: 0.691577\n",
      "recall: 0.703980\n",
      "f1 score: 0.697372\n",
      "\n",
      "*** naive bayes\n",
      "cv score: 0.560769\n",
      "accuracy: 0.560769\n",
      "precision: 0.715686\n",
      "recall: 0.405473\n",
      "f1 score: 0.517401\n",
      "\n",
      "*** gradient boosting\n",
      "cv score: 0.682101\n",
      "accuracy: 0.682101\n",
      "precision: 0.712854\n",
      "recall: 0.758706\n",
      "f1 score: 0.735011\n",
      "\n",
      "*** logistic\n",
      "cv score: 0.682063\n",
      "accuracy: 0.682063\n",
      "precision: 0.732912\n",
      "recall: 0.713930\n",
      "f1 score: 0.723011\n",
      "\n",
      "*** random forest\n",
      "cv score: 0.726915\n",
      "accuracy: 0.726915\n",
      "precision: 0.750441\n",
      "recall: 0.793532\n",
      "f1 score: 0.771371\n"
     ]
    }
   ],
   "source": [
    "get_crossval_scores(X_tr, y_tr, models)"
   ]
  },
  {
   "cell_type": "markdown",
   "metadata": {},
   "source": [
    "### Investigate feature importance\n",
    "\n",
    "Feature importance for best models, Extra Trees, Random Forest, and Gradient Boosting."
   ]
  },
  {
   "cell_type": "code",
   "execution_count": 35,
   "metadata": {
    "collapsed": false
   },
   "outputs": [
    {
     "name": "stdout",
     "output_type": "stream",
     "text": [
      "Feature ranking:\n",
      "1. feature: prevalence_of_hiv_total__of_population_ages_1549 (0.396860)\n",
      "2. feature: net_oda_mill (0.306375)\n",
      "3. feature: gni_per_capita_atlas_method_current_us (0.296765)\n"
     ]
    }
   ],
   "source": [
    "trees = ExtraTreesClassifier(random_state=rs)\n",
    "\n",
    "trees.fit(X_tr, y_tr)\n",
    "importances = trees.feature_importances_\n",
    "\n",
    "indices = np.argsort(importances)[::-1]\n",
    "\n",
    "print(\"Feature ranking:\")\n",
    "\n",
    "for f in range(len(features5) - 1):\n",
    "    print(\"%d. feature: %s (%f)\" % (f + 1, features5[indices[f]], importances[indices[f]]))"
   ]
  },
  {
   "cell_type": "code",
   "execution_count": 36,
   "metadata": {
    "collapsed": false
   },
   "outputs": [
    {
     "name": "stdout",
     "output_type": "stream",
     "text": [
      "Feature ranking:\n",
      "1. feature: prevalence_of_hiv_total__of_population_ages_1549 (0.399475)\n",
      "2. feature: net_oda_mill (0.338189)\n",
      "3. feature: gni_per_capita_atlas_method_current_us (0.262336)\n"
     ]
    }
   ],
   "source": [
    "forest = RandomForestClassifier(random_state=rs)\n",
    "\n",
    "forest.fit(X_tr, y_tr)\n",
    "importances = forest.feature_importances_\n",
    "\n",
    "indices = np.argsort(importances)[::-1]\n",
    "\n",
    "print(\"Feature ranking:\")\n",
    "\n",
    "for f in range(len(features5) - 1):\n",
    "    print(\"%d. feature: %s (%f)\" % (f + 1, features5[indices[f]], importances[indices[f]]))"
   ]
  },
  {
   "cell_type": "code",
   "execution_count": 37,
   "metadata": {
    "collapsed": false
   },
   "outputs": [
    {
     "name": "stdout",
     "output_type": "stream",
     "text": [
      "Feature ranking:\n",
      "1. feature: net_oda_mill (0.424601)\n",
      "2. feature: prevalence_of_hiv_total__of_population_ages_1549 (0.296408)\n",
      "3. feature: gni_per_capita_atlas_method_current_us (0.278991)\n"
     ]
    }
   ],
   "source": [
    "gradient = GradientBoostingClassifier(random_state=rs)\n",
    "\n",
    "gradient.fit(X_tr, y_tr)\n",
    "importances = gradient.feature_importances_\n",
    "\n",
    "indices = np.argsort(importances)[::-1]\n",
    "\n",
    "print(\"Feature ranking:\")\n",
    "\n",
    "for f in range(len(features5) - 1):\n",
    "    print(\"%d. feature: %s (%f)\" % (f + 1, features5[indices[f]], importances[indices[f]]))"
   ]
  },
  {
   "cell_type": "markdown",
   "metadata": {},
   "source": [
    "> The Extra Trees Classifier, Random Forest, and Grandient Boosting Classifier perform reasonably well. The Gradient Boosting model is the only model with ODA as the most important feature, which warrants further investigation."
   ]
  },
  {
   "cell_type": "code",
   "execution_count": null,
   "metadata": {
    "collapsed": true
   },
   "outputs": [],
   "source": []
  }
 ],
 "metadata": {
  "kernelspec": {
   "display_name": "Python 2",
   "language": "python",
   "name": "python2"
  },
  "language_info": {
   "codemirror_mode": {
    "name": "ipython",
    "version": 2
   },
   "file_extension": ".py",
   "mimetype": "text/x-python",
   "name": "python",
   "nbconvert_exporter": "python",
   "pygments_lexer": "ipython2",
   "version": "2.7.10"
  }
 },
 "nbformat": 4,
 "nbformat_minor": 0
}
